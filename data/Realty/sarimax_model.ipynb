{
  "nbformat": 4,
  "nbformat_minor": 0,
  "metadata": {
    "colab": {
      "name": "sarimax_model.ipynb",
      "provenance": []
    },
    "kernelspec": {
      "name": "python3",
      "display_name": "Python 3"
    }
  },
  "cells": [
    {
      "cell_type": "code",
      "metadata": {
        "colab": {
          "base_uri": "https://localhost:8080/"
        },
        "id": "QAGIwGzeYXrq",
        "outputId": "98f71503-60d7-464e-af53-7276ca35f8c7"
      },
      "source": [
        "import pandas as pd\r\n",
        "import matplotlib.pyplot as plt\r\n",
        "\r\n",
        "from statsmodels.graphics.tsaplots import plot_acf, plot_pacf\r\n",
        "from statsmodels.tsa.arima_model import ARIMA\r\n",
        "import statsmodels.api as sm\r\n",
        "import itertools\r\n",
        "import numpy as np \r\n",
        "import warnings\r\n",
        "warnings.filterwarnings('ignore')\r\n",
        "\r\n",
        "%matplotlib inline"
      ],
      "execution_count": 7,
      "outputs": [
        {
          "output_type": "stream",
          "text": [
            "/usr/local/lib/python3.6/dist-packages/statsmodels/tools/_testing.py:19: FutureWarning: pandas.util.testing is deprecated. Use the functions in the public API at pandas.testing instead.\n",
            "  import pandas.util.testing as tm\n"
          ],
          "name": "stderr"
        }
      ]
    },
    {
      "cell_type": "code",
      "metadata": {
        "colab": {
          "base_uri": "https://localhost:8080/",
          "height": 276
        },
        "id": "NJRl_rP9YiAb",
        "outputId": "b940bbd8-3c3a-4bae-99f2-94ff1e18b4c6"
      },
      "source": [
        "df_orig = pd.read_csv(\"https://raw.githubusercontent.com/JenBanks8585/Randomdata/main/data/Realty/Zip_ZORI_AllHomesPlusMultifamily_SSA%20(1).csv\", parse_dates= True)\r\n",
        "print(df_orig.shape)\r\n",
        "df_orig.head(3)"
      ],
      "execution_count": 2,
      "outputs": [
        {
          "output_type": "stream",
          "text": [
            "(2263, 88)\n"
          ],
          "name": "stdout"
        },
        {
          "output_type": "execute_result",
          "data": {
            "text/html": [
              "<div>\n",
              "<style scoped>\n",
              "    .dataframe tbody tr th:only-of-type {\n",
              "        vertical-align: middle;\n",
              "    }\n",
              "\n",
              "    .dataframe tbody tr th {\n",
              "        vertical-align: top;\n",
              "    }\n",
              "\n",
              "    .dataframe thead th {\n",
              "        text-align: right;\n",
              "    }\n",
              "</style>\n",
              "<table border=\"1\" class=\"dataframe\">\n",
              "  <thead>\n",
              "    <tr style=\"text-align: right;\">\n",
              "      <th></th>\n",
              "      <th>RegionID</th>\n",
              "      <th>RegionName</th>\n",
              "      <th>SizeRank</th>\n",
              "      <th>MsaName</th>\n",
              "      <th>2014-01</th>\n",
              "      <th>2014-02</th>\n",
              "      <th>2014-03</th>\n",
              "      <th>2014-04</th>\n",
              "      <th>2014-05</th>\n",
              "      <th>2014-06</th>\n",
              "      <th>2014-07</th>\n",
              "      <th>2014-08</th>\n",
              "      <th>2014-09</th>\n",
              "      <th>2014-10</th>\n",
              "      <th>2014-11</th>\n",
              "      <th>2014-12</th>\n",
              "      <th>2015-01</th>\n",
              "      <th>2015-02</th>\n",
              "      <th>2015-03</th>\n",
              "      <th>2015-04</th>\n",
              "      <th>2015-05</th>\n",
              "      <th>2015-06</th>\n",
              "      <th>2015-07</th>\n",
              "      <th>2015-08</th>\n",
              "      <th>2015-09</th>\n",
              "      <th>2015-10</th>\n",
              "      <th>2015-11</th>\n",
              "      <th>2015-12</th>\n",
              "      <th>2016-01</th>\n",
              "      <th>2016-02</th>\n",
              "      <th>2016-03</th>\n",
              "      <th>2016-04</th>\n",
              "      <th>2016-05</th>\n",
              "      <th>2016-06</th>\n",
              "      <th>2016-07</th>\n",
              "      <th>2016-08</th>\n",
              "      <th>2016-09</th>\n",
              "      <th>2016-10</th>\n",
              "      <th>2016-11</th>\n",
              "      <th>2016-12</th>\n",
              "      <th>...</th>\n",
              "      <th>2017-09</th>\n",
              "      <th>2017-10</th>\n",
              "      <th>2017-11</th>\n",
              "      <th>2017-12</th>\n",
              "      <th>2018-01</th>\n",
              "      <th>2018-02</th>\n",
              "      <th>2018-03</th>\n",
              "      <th>2018-04</th>\n",
              "      <th>2018-05</th>\n",
              "      <th>2018-06</th>\n",
              "      <th>2018-07</th>\n",
              "      <th>2018-08</th>\n",
              "      <th>2018-09</th>\n",
              "      <th>2018-10</th>\n",
              "      <th>2018-11</th>\n",
              "      <th>2018-12</th>\n",
              "      <th>2019-01</th>\n",
              "      <th>2019-02</th>\n",
              "      <th>2019-03</th>\n",
              "      <th>2019-04</th>\n",
              "      <th>2019-05</th>\n",
              "      <th>2019-06</th>\n",
              "      <th>2019-07</th>\n",
              "      <th>2019-08</th>\n",
              "      <th>2019-09</th>\n",
              "      <th>2019-10</th>\n",
              "      <th>2019-11</th>\n",
              "      <th>2019-12</th>\n",
              "      <th>2020-01</th>\n",
              "      <th>2020-02</th>\n",
              "      <th>2020-03</th>\n",
              "      <th>2020-04</th>\n",
              "      <th>2020-05</th>\n",
              "      <th>2020-06</th>\n",
              "      <th>2020-07</th>\n",
              "      <th>2020-08</th>\n",
              "      <th>2020-09</th>\n",
              "      <th>2020-10</th>\n",
              "      <th>2020-11</th>\n",
              "      <th>2020-12</th>\n",
              "    </tr>\n",
              "  </thead>\n",
              "  <tbody>\n",
              "    <tr>\n",
              "      <th>0</th>\n",
              "      <td>61639</td>\n",
              "      <td>10025</td>\n",
              "      <td>1</td>\n",
              "      <td>New York, NY</td>\n",
              "      <td>3025.0</td>\n",
              "      <td>3039.0</td>\n",
              "      <td>3054.0</td>\n",
              "      <td>3068.0</td>\n",
              "      <td>3083.0</td>\n",
              "      <td>3097.0</td>\n",
              "      <td>3112.0</td>\n",
              "      <td>3126.0</td>\n",
              "      <td>3140.0</td>\n",
              "      <td>3155.0</td>\n",
              "      <td>3169.0</td>\n",
              "      <td>3182.0</td>\n",
              "      <td>3196.0</td>\n",
              "      <td>3207.0</td>\n",
              "      <td>3217.0</td>\n",
              "      <td>3227.0</td>\n",
              "      <td>3233.0</td>\n",
              "      <td>3239.0</td>\n",
              "      <td>3244.0</td>\n",
              "      <td>3248.0</td>\n",
              "      <td>3252.0</td>\n",
              "      <td>3257.0</td>\n",
              "      <td>3260.0</td>\n",
              "      <td>3264.0</td>\n",
              "      <td>3268.0</td>\n",
              "      <td>3270.0</td>\n",
              "      <td>3272.0</td>\n",
              "      <td>3274.0</td>\n",
              "      <td>3276.0</td>\n",
              "      <td>3277.0</td>\n",
              "      <td>3279.0</td>\n",
              "      <td>3277.0</td>\n",
              "      <td>3276.0</td>\n",
              "      <td>3275.0</td>\n",
              "      <td>3275.0</td>\n",
              "      <td>3274.0</td>\n",
              "      <td>...</td>\n",
              "      <td>3267.0</td>\n",
              "      <td>3264.0</td>\n",
              "      <td>3263.0</td>\n",
              "      <td>3261.0</td>\n",
              "      <td>3260.0</td>\n",
              "      <td>3260.0</td>\n",
              "      <td>3260.0</td>\n",
              "      <td>3260.0</td>\n",
              "      <td>3262.0</td>\n",
              "      <td>3264.0</td>\n",
              "      <td>3267.0</td>\n",
              "      <td>3270.0</td>\n",
              "      <td>3274.0</td>\n",
              "      <td>3277.0</td>\n",
              "      <td>3281.0</td>\n",
              "      <td>3286.0</td>\n",
              "      <td>3290.0</td>\n",
              "      <td>3298.0</td>\n",
              "      <td>3305.0</td>\n",
              "      <td>3313.0</td>\n",
              "      <td>3324.0</td>\n",
              "      <td>3334.0</td>\n",
              "      <td>3345.0</td>\n",
              "      <td>3353.0</td>\n",
              "      <td>3361.0</td>\n",
              "      <td>3369.0</td>\n",
              "      <td>3361.0</td>\n",
              "      <td>3353.0</td>\n",
              "      <td>3346.0</td>\n",
              "      <td>3311.0</td>\n",
              "      <td>3277.0</td>\n",
              "      <td>3242.0</td>\n",
              "      <td>3201.0</td>\n",
              "      <td>3159.0</td>\n",
              "      <td>3117.0</td>\n",
              "      <td>3073.0</td>\n",
              "      <td>3029.0</td>\n",
              "      <td>2985.0</td>\n",
              "      <td>2938.0</td>\n",
              "      <td>2891.0</td>\n",
              "    </tr>\n",
              "    <tr>\n",
              "      <th>1</th>\n",
              "      <td>84654</td>\n",
              "      <td>60657</td>\n",
              "      <td>2</td>\n",
              "      <td>Chicago, IL</td>\n",
              "      <td>1580.0</td>\n",
              "      <td>1585.0</td>\n",
              "      <td>1591.0</td>\n",
              "      <td>1596.0</td>\n",
              "      <td>1602.0</td>\n",
              "      <td>1607.0</td>\n",
              "      <td>1612.0</td>\n",
              "      <td>1618.0</td>\n",
              "      <td>1623.0</td>\n",
              "      <td>1628.0</td>\n",
              "      <td>1633.0</td>\n",
              "      <td>1638.0</td>\n",
              "      <td>1643.0</td>\n",
              "      <td>1648.0</td>\n",
              "      <td>1653.0</td>\n",
              "      <td>1657.0</td>\n",
              "      <td>1662.0</td>\n",
              "      <td>1666.0</td>\n",
              "      <td>1670.0</td>\n",
              "      <td>1675.0</td>\n",
              "      <td>1679.0</td>\n",
              "      <td>1684.0</td>\n",
              "      <td>1689.0</td>\n",
              "      <td>1694.0</td>\n",
              "      <td>1699.0</td>\n",
              "      <td>1703.0</td>\n",
              "      <td>1708.0</td>\n",
              "      <td>1713.0</td>\n",
              "      <td>1717.0</td>\n",
              "      <td>1722.0</td>\n",
              "      <td>1726.0</td>\n",
              "      <td>1730.0</td>\n",
              "      <td>1735.0</td>\n",
              "      <td>1739.0</td>\n",
              "      <td>1742.0</td>\n",
              "      <td>1745.0</td>\n",
              "      <td>...</td>\n",
              "      <td>1761.0</td>\n",
              "      <td>1762.0</td>\n",
              "      <td>1763.0</td>\n",
              "      <td>1765.0</td>\n",
              "      <td>1766.0</td>\n",
              "      <td>1766.0</td>\n",
              "      <td>1766.0</td>\n",
              "      <td>1767.0</td>\n",
              "      <td>1767.0</td>\n",
              "      <td>1767.0</td>\n",
              "      <td>1767.0</td>\n",
              "      <td>1768.0</td>\n",
              "      <td>1769.0</td>\n",
              "      <td>1770.0</td>\n",
              "      <td>1773.0</td>\n",
              "      <td>1776.0</td>\n",
              "      <td>1778.0</td>\n",
              "      <td>1783.0</td>\n",
              "      <td>1788.0</td>\n",
              "      <td>1793.0</td>\n",
              "      <td>1799.0</td>\n",
              "      <td>1806.0</td>\n",
              "      <td>1812.0</td>\n",
              "      <td>1817.0</td>\n",
              "      <td>1822.0</td>\n",
              "      <td>1827.0</td>\n",
              "      <td>1828.0</td>\n",
              "      <td>1829.0</td>\n",
              "      <td>1830.0</td>\n",
              "      <td>1825.0</td>\n",
              "      <td>1820.0</td>\n",
              "      <td>1816.0</td>\n",
              "      <td>1810.0</td>\n",
              "      <td>1803.0</td>\n",
              "      <td>1797.0</td>\n",
              "      <td>1791.0</td>\n",
              "      <td>1784.0</td>\n",
              "      <td>1777.0</td>\n",
              "      <td>1770.0</td>\n",
              "      <td>1762.0</td>\n",
              "    </tr>\n",
              "    <tr>\n",
              "      <th>2</th>\n",
              "      <td>61637</td>\n",
              "      <td>10023</td>\n",
              "      <td>3</td>\n",
              "      <td>New York, NY</td>\n",
              "      <td>3156.0</td>\n",
              "      <td>3164.0</td>\n",
              "      <td>3172.0</td>\n",
              "      <td>3180.0</td>\n",
              "      <td>3188.0</td>\n",
              "      <td>3195.0</td>\n",
              "      <td>3203.0</td>\n",
              "      <td>3210.0</td>\n",
              "      <td>3218.0</td>\n",
              "      <td>3225.0</td>\n",
              "      <td>3231.0</td>\n",
              "      <td>3237.0</td>\n",
              "      <td>3242.0</td>\n",
              "      <td>3248.0</td>\n",
              "      <td>3254.0</td>\n",
              "      <td>3260.0</td>\n",
              "      <td>3267.0</td>\n",
              "      <td>3274.0</td>\n",
              "      <td>3281.0</td>\n",
              "      <td>3287.0</td>\n",
              "      <td>3294.0</td>\n",
              "      <td>3300.0</td>\n",
              "      <td>3305.0</td>\n",
              "      <td>3309.0</td>\n",
              "      <td>3314.0</td>\n",
              "      <td>3314.0</td>\n",
              "      <td>3313.0</td>\n",
              "      <td>3313.0</td>\n",
              "      <td>3309.0</td>\n",
              "      <td>3305.0</td>\n",
              "      <td>3301.0</td>\n",
              "      <td>3298.0</td>\n",
              "      <td>3295.0</td>\n",
              "      <td>3292.0</td>\n",
              "      <td>3293.0</td>\n",
              "      <td>3295.0</td>\n",
              "      <td>...</td>\n",
              "      <td>3304.0</td>\n",
              "      <td>3303.0</td>\n",
              "      <td>3300.0</td>\n",
              "      <td>3298.0</td>\n",
              "      <td>3296.0</td>\n",
              "      <td>3295.0</td>\n",
              "      <td>3295.0</td>\n",
              "      <td>3295.0</td>\n",
              "      <td>3299.0</td>\n",
              "      <td>3303.0</td>\n",
              "      <td>3306.0</td>\n",
              "      <td>3310.0</td>\n",
              "      <td>3314.0</td>\n",
              "      <td>3317.0</td>\n",
              "      <td>3323.0</td>\n",
              "      <td>3328.0</td>\n",
              "      <td>3333.0</td>\n",
              "      <td>3341.0</td>\n",
              "      <td>3350.0</td>\n",
              "      <td>3358.0</td>\n",
              "      <td>3366.0</td>\n",
              "      <td>3375.0</td>\n",
              "      <td>3384.0</td>\n",
              "      <td>3391.0</td>\n",
              "      <td>3397.0</td>\n",
              "      <td>3404.0</td>\n",
              "      <td>3397.0</td>\n",
              "      <td>3390.0</td>\n",
              "      <td>3383.0</td>\n",
              "      <td>3349.0</td>\n",
              "      <td>3316.0</td>\n",
              "      <td>3282.0</td>\n",
              "      <td>3241.0</td>\n",
              "      <td>3201.0</td>\n",
              "      <td>3160.0</td>\n",
              "      <td>3116.0</td>\n",
              "      <td>3073.0</td>\n",
              "      <td>3029.0</td>\n",
              "      <td>2983.0</td>\n",
              "      <td>2937.0</td>\n",
              "    </tr>\n",
              "  </tbody>\n",
              "</table>\n",
              "<p>3 rows × 88 columns</p>\n",
              "</div>"
            ],
            "text/plain": [
              "   RegionID  RegionName  SizeRank  ... 2020-10  2020-11  2020-12\n",
              "0     61639       10025         1  ...  2985.0   2938.0   2891.0\n",
              "1     84654       60657         2  ...  1777.0   1770.0   1762.0\n",
              "2     61637       10023         3  ...  3029.0   2983.0   2937.0\n",
              "\n",
              "[3 rows x 88 columns]"
            ]
          },
          "metadata": {
            "tags": []
          },
          "execution_count": 2
        }
      ]
    },
    {
      "cell_type": "code",
      "metadata": {
        "colab": {
          "base_uri": "https://localhost:8080/"
        },
        "id": "xxAH-vZe1CM_",
        "outputId": "11d88f42-65b7-42a1-c3a5-f0c34a8cbf30"
      },
      "source": [
        "df_orig['RegionName'].sort_values()"
      ],
      "execution_count": 129,
      "outputs": [
        {
          "output_type": "execute_result",
          "data": {
            "text/plain": [
              "774      1752\n",
              "1143     1760\n",
              "857      1801\n",
              "1773     1851\n",
              "1178     1852\n",
              "        ...  \n",
              "1902    98671\n",
              "208     98682\n",
              "1745    98685\n",
              "701     99205\n",
              "273     99208\n",
              "Name: RegionName, Length: 2263, dtype: int64"
            ]
          },
          "metadata": {
            "tags": []
          },
          "execution_count": 129
        }
      ]
    },
    {
      "cell_type": "code",
      "metadata": {
        "id": "XrPBO3hpYnzm"
      },
      "source": [
        "# Load data and create a dictionary of csv files per location\r\n",
        "\r\n",
        "def load_data():  \r\n",
        "  url = \"https://raw.githubusercontent.com/JenBanks8585/Randomdata/main/data/Realty/Zip_ZORI_AllHomesPlusMultifamily_SSA%20(1).csv\"\r\n",
        "  df_orig = pd.read_csv(url, parse_dates = True)\r\n",
        "  df= df_orig.copy()\r\n",
        "  df = df.drop(['RegionID', 'MsaName', 'SizeRank' ], axis = 1)\r\n",
        "  df = df.fillna(method='ffill')\r\n",
        "\r\n",
        "  df_summary = df_orig[['RegionName', 'MsaName']].drop([0])\r\n",
        "\r\n",
        "  # get the list of region ID\r\n",
        "  regionId = list(df['RegionName'])\r\n",
        "\r\n",
        "  # Create a dictionary of dataframes for each region ID, with dates as rows.\r\n",
        "  reg_dict = {}\r\n",
        "  for id, data in df.groupby('RegionName'):\r\n",
        "    if id in regionId:\r\n",
        "      data.to_csv('/content/csvs/{}.csv'.format(id), header = True, index_label = False)\r\n",
        "      reg_dict[id] = pd.read_csv('/content/csvs/{}.csv'.format(id))\r\n",
        "  \r\n",
        "    else:\r\n",
        "      continue\r\n",
        "\r\n",
        "  return df, reg_dict, df_summary\r\n",
        "\r\n",
        "df = load_data()[0]\r\n",
        "df_dict = load_data()[1]\r\n",
        "df_summary = load_data()[2]"
      ],
      "execution_count": 3,
      "outputs": []
    },
    {
      "cell_type": "code",
      "metadata": {
        "colab": {
          "base_uri": "https://localhost:8080/",
          "height": 173
        },
        "id": "G8APn4RSY_qj",
        "outputId": "7a794315-46a5-4711-d077-02eded7cc2c4"
      },
      "source": [
        "# Convert a dataframe into long format\r\n",
        "\r\n",
        "def long_format(df_):\r\n",
        "  tidy = pd.melt(df_, id_vars = ['RegionName'], var_name= 'time')\r\n",
        "  tidy['time'] = pd.to_datetime(tidy['time'], infer_datetime_format=True)\r\n",
        "  tidy = tidy.dropna(subset = ['value'])\r\n",
        "  tidy = tidy.groupby('time').aggregate({'value':'mean'})\r\n",
        "\r\n",
        "  return tidy\r\n",
        "\r\n",
        "long_format(df_dict[2474]).head(3)"
      ],
      "execution_count": 4,
      "outputs": [
        {
          "output_type": "execute_result",
          "data": {
            "text/html": [
              "<div>\n",
              "<style scoped>\n",
              "    .dataframe tbody tr th:only-of-type {\n",
              "        vertical-align: middle;\n",
              "    }\n",
              "\n",
              "    .dataframe tbody tr th {\n",
              "        vertical-align: top;\n",
              "    }\n",
              "\n",
              "    .dataframe thead th {\n",
              "        text-align: right;\n",
              "    }\n",
              "</style>\n",
              "<table border=\"1\" class=\"dataframe\">\n",
              "  <thead>\n",
              "    <tr style=\"text-align: right;\">\n",
              "      <th></th>\n",
              "      <th>value</th>\n",
              "    </tr>\n",
              "    <tr>\n",
              "      <th>time</th>\n",
              "      <th></th>\n",
              "    </tr>\n",
              "  </thead>\n",
              "  <tbody>\n",
              "    <tr>\n",
              "      <th>2014-01-01</th>\n",
              "      <td>1702.0</td>\n",
              "    </tr>\n",
              "    <tr>\n",
              "      <th>2014-02-01</th>\n",
              "      <td>1709.0</td>\n",
              "    </tr>\n",
              "    <tr>\n",
              "      <th>2014-03-01</th>\n",
              "      <td>1716.0</td>\n",
              "    </tr>\n",
              "  </tbody>\n",
              "</table>\n",
              "</div>"
            ],
            "text/plain": [
              "             value\n",
              "time              \n",
              "2014-01-01  1702.0\n",
              "2014-02-01  1709.0\n",
              "2014-03-01  1716.0"
            ]
          },
          "metadata": {
            "tags": []
          },
          "execution_count": 4
        }
      ]
    },
    {
      "cell_type": "code",
      "metadata": {
        "id": "iRG8-eMFZMhE"
      },
      "source": [
        "# Iterate through all dataframes to convert them to long format\r\n",
        "\r\n",
        "def make_tidy_all():\r\n",
        "  for id in df_dict.keys():\r\n",
        "    df_dict[id] = long_format(df_dict[id])\r\n",
        "\r\n",
        "  return df_dict\r\n",
        "\r\n",
        "tidy_dict = make_tidy_all()\r\n",
        "regionId_keys = list(tidy_dict.keys())"
      ],
      "execution_count": 5,
      "outputs": []
    },
    {
      "cell_type": "code",
      "metadata": {
        "colab": {
          "base_uri": "https://localhost:8080/",
          "height": 850
        },
        "id": "ayWXCdFBZQYo",
        "outputId": "69621177-923f-4366-da74-838a28312d09"
      },
      "source": [
        "# Plot some of the location's values places with rolling average\r\n",
        "\r\n",
        "for i in regionId_keys[5:7]:\r\n",
        "  tidy_dict[i].plot(figsize= (12,3))\r\n",
        "  tidy_dict[i].rolling(window=12).mean().plot(figsize = (12,3), color = 'red')"
      ],
      "execution_count": 6,
      "outputs": [
        {
          "output_type": "display_data",
          "data": {
            "image/png": "[encoded data removed]",
            "text/plain": [
              "<Figure size 864x216 with 1 Axes>"
            ]
          },
          "metadata": {
            "tags": [],
            "needs_background": "light"
          }
        },
        {
          "output_type": "display_data",
          "data": {
            "image/png": "[encoded data removed]",
            "text/plain": [
              "<Figure size 864x216 with 1 Axes>"
            ]
          },
          "metadata": {
            "tags": [],
            "needs_background": "light"
          }
        },
        {
          "output_type": "display_data",
          "data": {
            "image/png": "[encoded data removed]",
            "text/plain": [
              "<Figure size 864x216 with 1 Axes>"
            ]
          },
          "metadata": {
            "tags": [],
            "needs_background": "light"
          }
        },
        {
          "output_type": "display_data",
          "data": {
            "image/png": "[encoded data removed]",
            "text/plain": [
              "<Figure size 864x216 with 1 Axes>"
            ]
          },
          "metadata": {
            "tags": [],
            "needs_background": "light"
          }
        }
      ]
    },
    {
      "cell_type": "code",
      "metadata": {
        "colab": {
          "base_uri": "https://localhost:8080/",
          "height": 545
        },
        "id": "iNmHoJhaZcMs",
        "outputId": "52fd345a-55c0-402f-928c-8ac98854cb3d"
      },
      "source": [
        "# plot_acf for index 1801 , this is to get an value for q\r\n",
        "\r\n",
        "plot_acf(tidy_dict[1801][['value']]) #for value of q ( 1-7)"
      ],
      "execution_count": 8,
      "outputs": [
        {
          "output_type": "execute_result",
          "data": {
            "image/png": "[encoded data removed]",
            "text/plain": [
              "<Figure size 432x288 with 1 Axes>"
            ]
          },
          "metadata": {
            "tags": []
          },
          "execution_count": 8
        },
        {
          "output_type": "display_data",
          "data": {
            "image/png": "[encoded data removed]",
            "text/plain": [
              "<Figure size 432x288 with 1 Axes>"
            ]
          },
          "metadata": {
            "tags": [],
            "needs_background": "light"
          }
        }
      ]
    },
    {
      "cell_type": "code",
      "metadata": {
        "colab": {
          "base_uri": "https://localhost:8080/",
          "height": 545
        },
        "id": "XCfk7UlHZ2Xj",
        "outputId": "e4fc5163-e377-4449-b284-1e53626d8209"
      },
      "source": [
        "plot_pacf(tidy_dict[1801][['value']]) # For value of P"
      ],
      "execution_count": 9,
      "outputs": [
        {
          "output_type": "execute_result",
          "data": {
            "image/png": "[encoded data removed]",
            "text/plain": [
              "<Figure size 432x288 with 1 Axes>"
            ]
          },
          "metadata": {
            "tags": []
          },
          "execution_count": 9
        },
        {
          "output_type": "display_data",
          "data": {
            "image/png": "[encoded data removed]",
            "text/plain": [
              "<Figure size 432x288 with 1 Axes>"
            ]
          },
          "metadata": {
            "tags": [],
            "needs_background": "light"
          }
        }
      ]
    },
    {
      "cell_type": "code",
      "metadata": {
        "id": "FpFJRherZ8x1"
      },
      "source": [
        "# Get AIC scores using p=q=d = 1\r\n",
        "\r\n",
        "def get_aic_across():\r\n",
        "  AIC = []\r\n",
        "  for zipcode in tidy_dict.keys(): \r\n",
        "    mod = sm.tsa.statespace.SARIMAX(tidy_dict[zipcode]['value'],\r\n",
        "                                    order=(1, 1, 1),\r\n",
        "                                    seasonal_order=(1, 1, 1, 12), \r\n",
        "                                    enforce_stationarity=False,\r\n",
        "                                    enforce_invertibility=False)\r\n",
        "    res = mod.fit()\r\n",
        "    \r\n",
        "    AIC.append([zipcode, np.abs(res.aic)])\r\n",
        "\r\n",
        "#Putting information into dataframe\r\n",
        "  AIC_df = pd.DataFrame(AIC, columns = [\"zip\", 'aic'])\r\n",
        "  return AIC_df, res"
      ],
      "execution_count": 10,
      "outputs": []
    },
    {
      "cell_type": "code",
      "metadata": {
        "colab": {
          "base_uri": "https://localhost:8080/",
          "height": 465
        },
        "id": "k6kIg41daFEZ",
        "outputId": "1580a323-d743-4d88-e998-637df81eaab9"
      },
      "source": [
        "results_sarimax = get_aic_across()[1]\r\n",
        "results_sarimax.summary()"
      ],
      "execution_count": 11,
      "outputs": [
        {
          "output_type": "execute_result",
          "data": {
            "text/html": [
              "<table class=\"simpletable\">\n",
              "<caption>Statespace Model Results</caption>\n",
              "<tr>\n",
              "  <th>Dep. Variable:</th>                <td>value</td>             <th>  No. Observations:  </th>    <td>84</td>   \n",
              "</tr>\n",
              "<tr>\n",
              "  <th>Model:</th>           <td>SARIMAX(1, 1, 1)x(1, 1, 1, 12)</td> <th>  Log Likelihood     </th> <td>-309.796</td>\n",
              "</tr>\n",
              "<tr>\n",
              "  <th>Date:</th>                   <td>Sat, 06 Feb 2021</td>        <th>  AIC                </th>  <td>629.592</td>\n",
              "</tr>\n",
              "<tr>\n",
              "  <th>Time:</th>                       <td>03:58:14</td>            <th>  BIC                </th>  <td>639.808</td>\n",
              "</tr>\n",
              "<tr>\n",
              "  <th>Sample:</th>                    <td>01-01-2014</td>           <th>  HQIC               </th>  <td>633.562</td>\n",
              "</tr>\n",
              "<tr>\n",
              "  <th></th>                          <td>- 12-01-2020</td>          <th>                     </th>     <td> </td>   \n",
              "</tr>\n",
              "<tr>\n",
              "  <th>Covariance Type:</th>               <td>opg</td>              <th>                     </th>     <td> </td>   \n",
              "</tr>\n",
              "</table>\n",
              "<table class=\"simpletable\">\n",
              "<tr>\n",
              "      <td></td>        <th>coef</th>     <th>std err</th>      <th>z</th>      <th>P>|z|</th>  <th>[0.025</th>    <th>0.975]</th>  \n",
              "</tr>\n",
              "<tr>\n",
              "  <th>ar.L1</th>    <td>    0.0946</td> <td>    0.381</td> <td>    0.248</td> <td> 0.804</td> <td>   -0.652</td> <td>    0.842</td>\n",
              "</tr>\n",
              "<tr>\n",
              "  <th>ma.L1</th>    <td>   -0.8277</td> <td>    0.165</td> <td>   -5.013</td> <td> 0.000</td> <td>   -1.151</td> <td>   -0.504</td>\n",
              "</tr>\n",
              "<tr>\n",
              "  <th>ar.S.L12</th> <td>   -0.0929</td> <td>    0.276</td> <td>   -0.337</td> <td> 0.736</td> <td>   -0.634</td> <td>    0.448</td>\n",
              "</tr>\n",
              "<tr>\n",
              "  <th>ma.S.L12</th> <td>   -0.3180</td> <td>    0.280</td> <td>   -1.136</td> <td> 0.256</td> <td>   -0.866</td> <td>    0.230</td>\n",
              "</tr>\n",
              "<tr>\n",
              "  <th>sigma2</th>   <td> 2966.4404</td> <td>  264.544</td> <td>   11.213</td> <td> 0.000</td> <td> 2447.943</td> <td> 3484.938</td>\n",
              "</tr>\n",
              "</table>\n",
              "<table class=\"simpletable\">\n",
              "<tr>\n",
              "  <th>Ljung-Box (Q):</th>          <td>15.14</td> <th>  Jarque-Bera (JB):  </th> <td>394.86</td>\n",
              "</tr>\n",
              "<tr>\n",
              "  <th>Prob(Q):</th>                <td>1.00</td>  <th>  Prob(JB):          </th>  <td>0.00</td> \n",
              "</tr>\n",
              "<tr>\n",
              "  <th>Heteroskedasticity (H):</th> <td>0.24</td>  <th>  Skew:              </th>  <td>-1.69</td>\n",
              "</tr>\n",
              "<tr>\n",
              "  <th>Prob(H) (two-sided):</th>    <td>0.00</td>  <th>  Kurtosis:          </th>  <td>15.44</td>\n",
              "</tr>\n",
              "</table><br/><br/>Warnings:<br/>[1] Covariance matrix calculated using the outer product of gradients (complex-step)."
            ],
            "text/plain": [
              "<class 'statsmodels.iolib.summary.Summary'>\n",
              "\"\"\"\n",
              "                                 Statespace Model Results                                 \n",
              "==========================================================================================\n",
              "Dep. Variable:                              value   No. Observations:                   84\n",
              "Model:             SARIMAX(1, 1, 1)x(1, 1, 1, 12)   Log Likelihood                -309.796\n",
              "Date:                            Sat, 06 Feb 2021   AIC                            629.592\n",
              "Time:                                    03:58:14   BIC                            639.808\n",
              "Sample:                                01-01-2014   HQIC                           633.562\n",
              "                                     - 12-01-2020                                         \n",
              "Covariance Type:                              opg                                         \n",
              "==============================================================================\n",
              "                 coef    std err          z      P>|z|      [0.025      0.975]\n",
              "------------------------------------------------------------------------------\n",
              "ar.L1          0.0946      0.381      0.248      0.804      -0.652       0.842\n",
              "ma.L1         -0.8277      0.165     -5.013      0.000      -1.151      -0.504\n",
              "ar.S.L12      -0.0929      0.276     -0.337      0.736      -0.634       0.448\n",
              "ma.S.L12      -0.3180      0.280     -1.136      0.256      -0.866       0.230\n",
              "sigma2      2966.4404    264.544     11.213      0.000    2447.943    3484.938\n",
              "===================================================================================\n",
              "Ljung-Box (Q):                       15.14   Jarque-Bera (JB):               394.86\n",
              "Prob(Q):                              1.00   Prob(JB):                         0.00\n",
              "Heteroskedasticity (H):               0.24   Skew:                            -1.69\n",
              "Prob(H) (two-sided):                  0.00   Kurtosis:                        15.44\n",
              "===================================================================================\n",
              "\n",
              "Warnings:\n",
              "[1] Covariance matrix calculated using the outer product of gradients (complex-step).\n",
              "\"\"\""
            ]
          },
          "metadata": {
            "tags": []
          },
          "execution_count": 11
        }
      ]
    },
    {
      "cell_type": "code",
      "metadata": {
        "id": "EC6AzYisaJPI"
      },
      "source": [
        "# Creates a dataframe of different models based on location\r\n",
        "# Because of the number of locations, the model generation was divided into segments.\r\n",
        "# Note there are a total of 2263 locations, in this cell, we are just running the first 20\r\n",
        "\r\n",
        "\r\n",
        "def get_model(begin_index=0, end_index=20):\r\n",
        "  model = []\r\n",
        "  for zipcode in list(tidy_dict.keys())[begin_index:end_index]: \r\n",
        "    mod = sm.tsa.statespace.SARIMAX(tidy_dict[zipcode]['value'],\r\n",
        "                                    order=(1, 1, 1),\r\n",
        "                                    seasonal_order=(1, 1, 1, 12), \r\n",
        "                                    enforce_stationarity=False,\r\n",
        "                                    enforce_invertibility=False)\r\n",
        "    \r\n",
        "    res = mod.fit()\r\n",
        "    \r\n",
        "    model.append([zipcode, res])\r\n",
        "\r\n",
        "# Putting information into dataframe\r\n",
        "  model_df = pd.DataFrame(model, columns = [\"zip\", 'model'])\r\n",
        "  return model_df"
      ],
      "execution_count": 12,
      "outputs": []
    },
    {
      "cell_type": "code",
      "metadata": {
        "colab": {
          "base_uri": "https://localhost:8080/",
          "height": 204
        },
        "id": "OiOiRvjOcRhg",
        "outputId": "5e5a2213-4d0b-486a-da41-06e65ae5b0b9"
      },
      "source": [
        "model_0_20 = get_model(0, 20)\r\n",
        "model_0_20.head()"
      ],
      "execution_count": 15,
      "outputs": [
        {
          "output_type": "execute_result",
          "data": {
            "text/html": [
              "<div>\n",
              "<style scoped>\n",
              "    .dataframe tbody tr th:only-of-type {\n",
              "        vertical-align: middle;\n",
              "    }\n",
              "\n",
              "    .dataframe tbody tr th {\n",
              "        vertical-align: top;\n",
              "    }\n",
              "\n",
              "    .dataframe thead th {\n",
              "        text-align: right;\n",
              "    }\n",
              "</style>\n",
              "<table border=\"1\" class=\"dataframe\">\n",
              "  <thead>\n",
              "    <tr style=\"text-align: right;\">\n",
              "      <th></th>\n",
              "      <th>zip</th>\n",
              "      <th>model</th>\n",
              "    </tr>\n",
              "  </thead>\n",
              "  <tbody>\n",
              "    <tr>\n",
              "      <th>0</th>\n",
              "      <td>1752</td>\n",
              "      <td>&lt;statsmodels.tsa.statespace.sarimax.SARIMAXRes...</td>\n",
              "    </tr>\n",
              "    <tr>\n",
              "      <th>1</th>\n",
              "      <td>1760</td>\n",
              "      <td>&lt;statsmodels.tsa.statespace.sarimax.SARIMAXRes...</td>\n",
              "    </tr>\n",
              "    <tr>\n",
              "      <th>2</th>\n",
              "      <td>1801</td>\n",
              "      <td>&lt;statsmodels.tsa.statespace.sarimax.SARIMAXRes...</td>\n",
              "    </tr>\n",
              "    <tr>\n",
              "      <th>3</th>\n",
              "      <td>1851</td>\n",
              "      <td>&lt;statsmodels.tsa.statespace.sarimax.SARIMAXRes...</td>\n",
              "    </tr>\n",
              "    <tr>\n",
              "      <th>4</th>\n",
              "      <td>1852</td>\n",
              "      <td>&lt;statsmodels.tsa.statespace.sarimax.SARIMAXRes...</td>\n",
              "    </tr>\n",
              "  </tbody>\n",
              "</table>\n",
              "</div>"
            ],
            "text/plain": [
              "    zip                                              model\n",
              "0  1752  <statsmodels.tsa.statespace.sarimax.SARIMAXRes...\n",
              "1  1760  <statsmodels.tsa.statespace.sarimax.SARIMAXRes...\n",
              "2  1801  <statsmodels.tsa.statespace.sarimax.SARIMAXRes...\n",
              "3  1851  <statsmodels.tsa.statespace.sarimax.SARIMAXRes...\n",
              "4  1852  <statsmodels.tsa.statespace.sarimax.SARIMAXRes..."
            ]
          },
          "metadata": {
            "tags": []
          },
          "execution_count": 15
        }
      ]
    },
    {
      "cell_type": "code",
      "metadata": {
        "id": "5DxAGybMa7TF"
      },
      "source": [
        "# Run the rest of the locations and instantiate them\r\n",
        "\r\n",
        "model_20_500 = get_model(100:500)\r\n",
        "model_500_1000 = get_model(500:1000)\r\n",
        "model_1000_1500 = get_model(1000:1500)\r\n",
        "model_1500_2000 = get_model(1500:2000)\r\n",
        "model_last = get_model(2000:)"
      ],
      "execution_count": null,
      "outputs": []
    },
    {
      "cell_type": "code",
      "metadata": {
        "id": "cKHwFms7fxsZ"
      },
      "source": [
        "import pickle\r\n",
        "\r\n",
        "with open('/content/pickles/model_0_20.pkl', 'wb') as f:\r\n",
        "  pickle.dump(model_0_20, f)\r\n",
        "\r\n",
        "with open('/content/pickles/model_0_20.pkl', 'wb') as f:\r\n",
        "  pickle.dump(model_0_20, f)\r\n",
        "\r\n",
        "with open('/content/pickles/model_0_20.pkl', 'wb') as f:\r\n",
        "  pickle.dump(model_0_20, f)\r\n",
        "\r\n"
      ],
      "execution_count": 17,
      "outputs": []
    },
    {
      "cell_type": "code",
      "metadata": {
        "id": "lBQ4G78ZgedF"
      },
      "source": [
        "# Pickle the models\r\n",
        "\r\n",
        "model_list = [model_0_20, \r\n",
        "              model_20_500, \r\n",
        "              model_500_1000, \r\n",
        "              model_1000_1500, \r\n",
        "              model_1500_2000, \r\n",
        "              model_last]\r\n",
        "\r\n",
        "for i in range(len(model_list)):\r\n",
        "  with open(f'/content/pickles/str{model_list[i]}', 'wb') as mod:\r\n",
        "    pickle.dump(model_list[i], mod)"
      ],
      "execution_count": null,
      "outputs": []
    },
    {
      "cell_type": "code",
      "metadata": {
        "id": "MRAsLW93hyyO"
      },
      "source": [
        "# Access the models\r\n",
        "\r\n",
        "file = open(\"/content/pickles/model_0_20.pkl\", 'rb')\r\n",
        "df_20 = pickle.load(file)\r\n",
        "\r\n",
        "file = open(\"/content/pickles/model_20_500.pkl\", 'rb')\r\n",
        "df_500 = pickle.load(file)\r\n",
        "\r\n",
        "file = open(\"/content/pickles/model_500_1000.pkl\", 'rb')\r\n",
        "df_1000 = pickle.load(file)\r\n",
        "\r\n",
        "file = open(\"/content/pickles/model_1000_1500.pkl\", 'rb')\r\n",
        "df_1500 = pickle.load(file)\r\n",
        "\r\n",
        "file = open(\"/content/pickles/model_1500_2000.pkl\", 'rb')\r\n",
        "df_2000 = pickle.load(file)\r\n",
        "\r\n",
        "file = open(\"/content/pickles/model_last.pkl\", 'rb')\r\n",
        "df_last = pickle.load(file)\r\n",
        "\r\n",
        "\r\n",
        "# Concatenate the dataframes of zip codes/model\r\n",
        "\r\n",
        "model_df_all= pd.concat([df_20, df_500, df_1000, df_1500, df_2000, df_last])"
      ],
      "execution_count": 19,
      "outputs": []
    },
    {
      "cell_type": "code",
      "metadata": {
        "id": "6XQ4Vi2Rfyx-"
      },
      "source": [
        "# Gives forecast given zip code, number of months to forecast and the model dataframe\r\n",
        "\r\n",
        "def get_forecast(zip, steps):\r\n",
        "  if zip in list(model_df_all['zip']):   \r\n",
        "  \r\n",
        "    forecast = model_df_all.loc[model_df_all['zip'] == zip, 'model'].item().get_forecast(steps = steps)\r\n",
        "    forecast_conf = forecast.conf_int()\r\n",
        "    return forecast_conf\r\n",
        "  return \"This location is not available\""
      ],
      "execution_count": 21,
      "outputs": []
    },
    {
      "cell_type": "code",
      "metadata": {
        "colab": {
          "base_uri": "https://localhost:8080/",
          "height": 235
        },
        "id": "oKLqfzccjjrl",
        "outputId": "82ac4c60-64aa-4c67-fe6d-984d4b3d2a85"
      },
      "source": [
        "get_forecast(\t1752, 6)"
      ],
      "execution_count": 22,
      "outputs": [
        {
          "output_type": "execute_result",
          "data": {
            "text/html": [
              "<div>\n",
              "<style scoped>\n",
              "    .dataframe tbody tr th:only-of-type {\n",
              "        vertical-align: middle;\n",
              "    }\n",
              "\n",
              "    .dataframe tbody tr th {\n",
              "        vertical-align: top;\n",
              "    }\n",
              "\n",
              "    .dataframe thead th {\n",
              "        text-align: right;\n",
              "    }\n",
              "</style>\n",
              "<table border=\"1\" class=\"dataframe\">\n",
              "  <thead>\n",
              "    <tr style=\"text-align: right;\">\n",
              "      <th></th>\n",
              "      <th>lower value</th>\n",
              "      <th>upper value</th>\n",
              "    </tr>\n",
              "  </thead>\n",
              "  <tbody>\n",
              "    <tr>\n",
              "      <th>2021-01-01</th>\n",
              "      <td>1669.490492</td>\n",
              "      <td>1674.893644</td>\n",
              "    </tr>\n",
              "    <tr>\n",
              "      <th>2021-02-01</th>\n",
              "      <td>1667.457448</td>\n",
              "      <td>1678.461767</td>\n",
              "    </tr>\n",
              "    <tr>\n",
              "      <th>2021-03-01</th>\n",
              "      <td>1664.597923</td>\n",
              "      <td>1682.118036</td>\n",
              "    </tr>\n",
              "    <tr>\n",
              "      <th>2021-04-01</th>\n",
              "      <td>1661.970767</td>\n",
              "      <td>1686.767107</td>\n",
              "    </tr>\n",
              "    <tr>\n",
              "      <th>2021-05-01</th>\n",
              "      <td>1657.064202</td>\n",
              "      <td>1689.774600</td>\n",
              "    </tr>\n",
              "    <tr>\n",
              "      <th>2021-06-01</th>\n",
              "      <td>1651.983733</td>\n",
              "      <td>1693.151114</td>\n",
              "    </tr>\n",
              "  </tbody>\n",
              "</table>\n",
              "</div>"
            ],
            "text/plain": [
              "            lower value  upper value\n",
              "2021-01-01  1669.490492  1674.893644\n",
              "2021-02-01  1667.457448  1678.461767\n",
              "2021-03-01  1664.597923  1682.118036\n",
              "2021-04-01  1661.970767  1686.767107\n",
              "2021-05-01  1657.064202  1689.774600\n",
              "2021-06-01  1651.983733  1693.151114"
            ]
          },
          "metadata": {
            "tags": []
          },
          "execution_count": 22
        }
      ]
    },
    {
      "cell_type": "code",
      "metadata": {
        "colab": {
          "base_uri": "https://localhost:8080/",
          "height": 355
        },
        "id": "ZGpXg-FskD7H",
        "outputId": "56264604-8964-45f0-df5b-9567051efa4f"
      },
      "source": [
        "# Create a dataframe of the next 5-months low/high forecasts.\r\n",
        "\r\n",
        "dfs= []\r\n",
        "for zip in model_df_all['zip']:\r\n",
        "  d = get_forecast(zip, 5)\r\n",
        "  dfs.append(d)\r\n",
        "  forecast_5months = pd.concat(dfs, axis =1, names = zip_codes)\r\n",
        "\r\n",
        "# Create a csv file\r\n",
        "forecast_5months.to_csv('forecast_5months.csv')\r\n",
        "forecast_5months.head()"
      ],
      "execution_count": 23,
      "outputs": [
        {
          "output_type": "execute_result",
          "data": {
            "text/html": [
              "<div>\n",
              "<style scoped>\n",
              "    .dataframe tbody tr th:only-of-type {\n",
              "        vertical-align: middle;\n",
              "    }\n",
              "\n",
              "    .dataframe tbody tr th {\n",
              "        vertical-align: top;\n",
              "    }\n",
              "\n",
              "    .dataframe thead th {\n",
              "        text-align: right;\n",
              "    }\n",
              "</style>\n",
              "<table border=\"1\" class=\"dataframe\">\n",
              "  <thead>\n",
              "    <tr style=\"text-align: right;\">\n",
              "      <th></th>\n",
              "      <th>lower value</th>\n",
              "      <th>upper value</th>\n",
              "      <th>lower value.1</th>\n",
              "      <th>upper value.1</th>\n",
              "      <th>lower value.2</th>\n",
              "      <th>upper value.2</th>\n",
              "      <th>lower value.3</th>\n",
              "      <th>upper value.3</th>\n",
              "      <th>lower value.4</th>\n",
              "      <th>upper value.4</th>\n",
              "      <th>lower value.5</th>\n",
              "      <th>upper value.5</th>\n",
              "      <th>lower value.6</th>\n",
              "      <th>upper value.6</th>\n",
              "      <th>lower value.7</th>\n",
              "      <th>upper value.7</th>\n",
              "      <th>lower value.8</th>\n",
              "      <th>upper value.8</th>\n",
              "      <th>lower value.9</th>\n",
              "      <th>upper value.9</th>\n",
              "      <th>lower value.10</th>\n",
              "      <th>upper value.10</th>\n",
              "      <th>lower value.11</th>\n",
              "      <th>upper value.11</th>\n",
              "      <th>lower value.12</th>\n",
              "      <th>upper value.12</th>\n",
              "      <th>lower value.13</th>\n",
              "      <th>upper value.13</th>\n",
              "      <th>lower value.14</th>\n",
              "      <th>upper value.14</th>\n",
              "      <th>lower value.15</th>\n",
              "      <th>upper value.15</th>\n",
              "      <th>lower value.16</th>\n",
              "      <th>upper value.16</th>\n",
              "      <th>lower value.17</th>\n",
              "      <th>upper value.17</th>\n",
              "      <th>lower value.18</th>\n",
              "      <th>upper value.18</th>\n",
              "      <th>lower value.19</th>\n",
              "      <th>upper value.19</th>\n",
              "      <th>...</th>\n",
              "      <th>lower value.2243</th>\n",
              "      <th>upper value.2243</th>\n",
              "      <th>lower value.2244</th>\n",
              "      <th>upper value.2244</th>\n",
              "      <th>lower value.2245</th>\n",
              "      <th>upper value.2245</th>\n",
              "      <th>lower value.2246</th>\n",
              "      <th>upper value.2246</th>\n",
              "      <th>lower value.2247</th>\n",
              "      <th>upper value.2247</th>\n",
              "      <th>lower value.2248</th>\n",
              "      <th>upper value.2248</th>\n",
              "      <th>lower value.2249</th>\n",
              "      <th>upper value.2249</th>\n",
              "      <th>lower value.2250</th>\n",
              "      <th>upper value.2250</th>\n",
              "      <th>lower value.2251</th>\n",
              "      <th>upper value.2251</th>\n",
              "      <th>lower value.2252</th>\n",
              "      <th>upper value.2252</th>\n",
              "      <th>lower value.2253</th>\n",
              "      <th>upper value.2253</th>\n",
              "      <th>lower value.2254</th>\n",
              "      <th>upper value.2254</th>\n",
              "      <th>lower value.2255</th>\n",
              "      <th>upper value.2255</th>\n",
              "      <th>lower value.2256</th>\n",
              "      <th>upper value.2256</th>\n",
              "      <th>lower value.2257</th>\n",
              "      <th>upper value.2257</th>\n",
              "      <th>lower value.2258</th>\n",
              "      <th>upper value.2258</th>\n",
              "      <th>lower value.2259</th>\n",
              "      <th>upper value.2259</th>\n",
              "      <th>lower value.2260</th>\n",
              "      <th>upper value.2260</th>\n",
              "      <th>lower value.2261</th>\n",
              "      <th>upper value.2261</th>\n",
              "      <th>lower value.2262</th>\n",
              "      <th>upper value.2262</th>\n",
              "    </tr>\n",
              "  </thead>\n",
              "  <tbody>\n",
              "    <tr>\n",
              "      <th>2021-01-01</th>\n",
              "      <td>1669.490492</td>\n",
              "      <td>1674.893644</td>\n",
              "      <td>1933.302221</td>\n",
              "      <td>1942.738011</td>\n",
              "      <td>2003.206969</td>\n",
              "      <td>2023.919893</td>\n",
              "      <td>1381.968676</td>\n",
              "      <td>1553.652390</td>\n",
              "      <td>1377.769652</td>\n",
              "      <td>2006.358352</td>\n",
              "      <td>1791.457903</td>\n",
              "      <td>2041.093738</td>\n",
              "      <td>1906.838042</td>\n",
              "      <td>2067.952368</td>\n",
              "      <td>1776.418187</td>\n",
              "      <td>2186.226560</td>\n",
              "      <td>2623.137248</td>\n",
              "      <td>2637.760213</td>\n",
              "      <td>2579.277953</td>\n",
              "      <td>3119.414833</td>\n",
              "      <td>1900.827013</td>\n",
              "      <td>6210.447582</td>\n",
              "      <td>2178.233941</td>\n",
              "      <td>2192.060683</td>\n",
              "      <td>2295.500046</td>\n",
              "      <td>2353.706139</td>\n",
              "      <td>2448.920209</td>\n",
              "      <td>2460.543905</td>\n",
              "      <td>2523.341878</td>\n",
              "      <td>2533.054129</td>\n",
              "      <td>2699.465439</td>\n",
              "      <td>2713.060555</td>\n",
              "      <td>2746.017241</td>\n",
              "      <td>2757.052708</td>\n",
              "      <td>3536.461316</td>\n",
              "      <td>3649.479397</td>\n",
              "      <td>1922.951893</td>\n",
              "      <td>3492.781262</td>\n",
              "      <td>2364.858779</td>\n",
              "      <td>2375.479195</td>\n",
              "      <td>...</td>\n",
              "      <td>2177.207344</td>\n",
              "      <td>2181.995669</td>\n",
              "      <td>1902.269807</td>\n",
              "      <td>1906.763340</td>\n",
              "      <td>1302.022872</td>\n",
              "      <td>2101.346370</td>\n",
              "      <td>1551.590770</td>\n",
              "      <td>1559.034779</td>\n",
              "      <td>1526.796658</td>\n",
              "      <td>1533.279905</td>\n",
              "      <td>1713.405568</td>\n",
              "      <td>1817.789584</td>\n",
              "      <td>1436.817446</td>\n",
              "      <td>1440.543167</td>\n",
              "      <td>1340.171833</td>\n",
              "      <td>1484.447208</td>\n",
              "      <td>2135.926990</td>\n",
              "      <td>2141.064468</td>\n",
              "      <td>151.335605</td>\n",
              "      <td>3879.731433</td>\n",
              "      <td>1674.254455</td>\n",
              "      <td>1840.287544</td>\n",
              "      <td>1660.738599</td>\n",
              "      <td>1665.377548</td>\n",
              "      <td>2317.237566</td>\n",
              "      <td>2324.016913</td>\n",
              "      <td>1436.513598</td>\n",
              "      <td>1439.963576</td>\n",
              "      <td>1547.525614</td>\n",
              "      <td>1551.382418</td>\n",
              "      <td>1399.146646</td>\n",
              "      <td>1998.018101</td>\n",
              "      <td>1640.972679</td>\n",
              "      <td>1645.386696</td>\n",
              "      <td>2158.778032</td>\n",
              "      <td>2163.413894</td>\n",
              "      <td>1172.867832</td>\n",
              "      <td>1341.438262</td>\n",
              "      <td>1355.756236</td>\n",
              "      <td>1569.255920</td>\n",
              "    </tr>\n",
              "    <tr>\n",
              "      <th>2021-02-01</th>\n",
              "      <td>1667.457448</td>\n",
              "      <td>1678.461767</td>\n",
              "      <td>1919.070700</td>\n",
              "      <td>1940.532890</td>\n",
              "      <td>1984.920097</td>\n",
              "      <td>2015.987243</td>\n",
              "      <td>1421.109652</td>\n",
              "      <td>1592.127609</td>\n",
              "      <td>1372.577866</td>\n",
              "      <td>2003.057049</td>\n",
              "      <td>1796.814203</td>\n",
              "      <td>2068.081059</td>\n",
              "      <td>1920.043278</td>\n",
              "      <td>2081.259363</td>\n",
              "      <td>1848.205670</td>\n",
              "      <td>2283.899911</td>\n",
              "      <td>2596.453358</td>\n",
              "      <td>2628.574755</td>\n",
              "      <td>2548.677705</td>\n",
              "      <td>3092.046601</td>\n",
              "      <td>2048.212785</td>\n",
              "      <td>6364.112582</td>\n",
              "      <td>2127.563994</td>\n",
              "      <td>2157.915088</td>\n",
              "      <td>2198.496960</td>\n",
              "      <td>2321.405831</td>\n",
              "      <td>2396.325338</td>\n",
              "      <td>2422.078956</td>\n",
              "      <td>2485.716356</td>\n",
              "      <td>2506.878805</td>\n",
              "      <td>2652.506993</td>\n",
              "      <td>2681.318950</td>\n",
              "      <td>2744.231684</td>\n",
              "      <td>2768.785526</td>\n",
              "      <td>3493.266118</td>\n",
              "      <td>3654.066884</td>\n",
              "      <td>1816.009007</td>\n",
              "      <td>3391.754018</td>\n",
              "      <td>2375.303191</td>\n",
              "      <td>2391.349374</td>\n",
              "      <td>...</td>\n",
              "      <td>2185.782966</td>\n",
              "      <td>2194.863094</td>\n",
              "      <td>1910.551792</td>\n",
              "      <td>1918.876370</td>\n",
              "      <td>1293.636570</td>\n",
              "      <td>2121.359040</td>\n",
              "      <td>1558.047959</td>\n",
              "      <td>1573.191720</td>\n",
              "      <td>1531.958203</td>\n",
              "      <td>1545.138800</td>\n",
              "      <td>1714.520959</td>\n",
              "      <td>1840.887672</td>\n",
              "      <td>1439.307359</td>\n",
              "      <td>1446.459815</td>\n",
              "      <td>1342.847554</td>\n",
              "      <td>1492.911125</td>\n",
              "      <td>2152.712289</td>\n",
              "      <td>2163.230165</td>\n",
              "      <td>-379.784758</td>\n",
              "      <td>3347.094134</td>\n",
              "      <td>1674.343733</td>\n",
              "      <td>1847.130082</td>\n",
              "      <td>1664.304113</td>\n",
              "      <td>1673.354678</td>\n",
              "      <td>2334.835964</td>\n",
              "      <td>2349.690373</td>\n",
              "      <td>1439.606212</td>\n",
              "      <td>1446.018655</td>\n",
              "      <td>1551.861112</td>\n",
              "      <td>1559.410798</td>\n",
              "      <td>1575.625751</td>\n",
              "      <td>2198.161317</td>\n",
              "      <td>1645.432816</td>\n",
              "      <td>1653.692338</td>\n",
              "      <td>2166.293448</td>\n",
              "      <td>2175.522750</td>\n",
              "      <td>1181.686474</td>\n",
              "      <td>1350.987341</td>\n",
              "      <td>1358.264769</td>\n",
              "      <td>1579.238264</td>\n",
              "    </tr>\n",
              "    <tr>\n",
              "      <th>2021-03-01</th>\n",
              "      <td>1664.597923</td>\n",
              "      <td>1682.118036</td>\n",
              "      <td>1904.546154</td>\n",
              "      <td>1939.975767</td>\n",
              "      <td>1966.576178</td>\n",
              "      <td>2006.766178</td>\n",
              "      <td>1419.747461</td>\n",
              "      <td>1590.712321</td>\n",
              "      <td>1371.404034</td>\n",
              "      <td>2006.845793</td>\n",
              "      <td>1817.380456</td>\n",
              "      <td>2096.576279</td>\n",
              "      <td>1930.897276</td>\n",
              "      <td>2092.119750</td>\n",
              "      <td>1866.850471</td>\n",
              "      <td>2324.094882</td>\n",
              "      <td>2568.077963</td>\n",
              "      <td>2621.143441</td>\n",
              "      <td>2342.866446</td>\n",
              "      <td>2910.398817</td>\n",
              "      <td>1353.349085</td>\n",
              "      <td>5729.487810</td>\n",
              "      <td>2075.211042</td>\n",
              "      <td>2125.831891</td>\n",
              "      <td>2093.790087</td>\n",
              "      <td>2294.408257</td>\n",
              "      <td>2341.932052</td>\n",
              "      <td>2384.990820</td>\n",
              "      <td>2446.267527</td>\n",
              "      <td>2481.394007</td>\n",
              "      <td>2602.294068</td>\n",
              "      <td>2649.841390</td>\n",
              "      <td>2741.973648</td>\n",
              "      <td>2781.959430</td>\n",
              "      <td>3455.503428</td>\n",
              "      <td>3651.135692</td>\n",
              "      <td>1680.992294</td>\n",
              "      <td>3257.596819</td>\n",
              "      <td>2386.032759</td>\n",
              "      <td>2406.930609</td>\n",
              "      <td>...</td>\n",
              "      <td>2193.840403</td>\n",
              "      <td>2207.583159</td>\n",
              "      <td>1918.400374</td>\n",
              "      <td>1930.839042</td>\n",
              "      <td>1041.175444</td>\n",
              "      <td>1871.685846</td>\n",
              "      <td>1563.338176</td>\n",
              "      <td>1586.579452</td>\n",
              "      <td>1537.214493</td>\n",
              "      <td>1557.916071</td>\n",
              "      <td>1719.949236</td>\n",
              "      <td>1856.935161</td>\n",
              "      <td>1441.103603</td>\n",
              "      <td>1452.112316</td>\n",
              "      <td>1346.029738</td>\n",
              "      <td>1503.133654</td>\n",
              "      <td>2169.504076</td>\n",
              "      <td>2186.417580</td>\n",
              "      <td>-262.631549</td>\n",
              "      <td>3458.052428</td>\n",
              "      <td>1680.115144</td>\n",
              "      <td>1858.928781</td>\n",
              "      <td>1667.745555</td>\n",
              "      <td>1681.801160</td>\n",
              "      <td>2351.286243</td>\n",
              "      <td>2375.732656</td>\n",
              "      <td>1442.440907</td>\n",
              "      <td>1452.163257</td>\n",
              "      <td>1555.454796</td>\n",
              "      <td>1567.227265</td>\n",
              "      <td>1447.730706</td>\n",
              "      <td>2080.202048</td>\n",
              "      <td>1650.391034</td>\n",
              "      <td>1662.951665</td>\n",
              "      <td>2173.823458</td>\n",
              "      <td>2188.449416</td>\n",
              "      <td>1188.980412</td>\n",
              "      <td>1359.527770</td>\n",
              "      <td>1364.288549</td>\n",
              "      <td>1589.251376</td>\n",
              "    </tr>\n",
              "    <tr>\n",
              "      <th>2021-04-01</th>\n",
              "      <td>1661.970767</td>\n",
              "      <td>1686.767107</td>\n",
              "      <td>1889.993824</td>\n",
              "      <td>1940.690079</td>\n",
              "      <td>1949.792357</td>\n",
              "      <td>1998.627397</td>\n",
              "      <td>1430.954004</td>\n",
              "      <td>1601.891289</td>\n",
              "      <td>1374.200145</td>\n",
              "      <td>2014.370507</td>\n",
              "      <td>1790.462080</td>\n",
              "      <td>2074.879510</td>\n",
              "      <td>1941.885447</td>\n",
              "      <td>2103.107619</td>\n",
              "      <td>1834.597184</td>\n",
              "      <td>2312.463247</td>\n",
              "      <td>2538.895318</td>\n",
              "      <td>2615.709417</td>\n",
              "      <td>2566.479524</td>\n",
              "      <td>3153.231319</td>\n",
              "      <td>782.358296</td>\n",
              "      <td>5189.401711</td>\n",
              "      <td>2019.841900</td>\n",
              "      <td>2094.089269</td>\n",
              "      <td>1984.147262</td>\n",
              "      <td>2273.943603</td>\n",
              "      <td>2285.693461</td>\n",
              "      <td>2348.852927</td>\n",
              "      <td>2405.916819</td>\n",
              "      <td>2457.237786</td>\n",
              "      <td>2547.670869</td>\n",
              "      <td>2617.316062</td>\n",
              "      <td>2740.535891</td>\n",
              "      <td>2797.135980</td>\n",
              "      <td>3422.197530</td>\n",
              "      <td>3648.751813</td>\n",
              "      <td>1926.862028</td>\n",
              "      <td>3504.089593</td>\n",
              "      <td>2396.853712</td>\n",
              "      <td>2422.404168</td>\n",
              "      <td>...</td>\n",
              "      <td>2201.353750</td>\n",
              "      <td>2220.011914</td>\n",
              "      <td>1925.984139</td>\n",
              "      <td>1942.741072</td>\n",
              "      <td>1045.626097</td>\n",
              "      <td>1876.574238</td>\n",
              "      <td>1568.436084</td>\n",
              "      <td>1599.803689</td>\n",
              "      <td>1541.426032</td>\n",
              "      <td>1570.198287</td>\n",
              "      <td>1728.591185</td>\n",
              "      <td>1872.024330</td>\n",
              "      <td>1443.246432</td>\n",
              "      <td>1458.474125</td>\n",
              "      <td>1348.806078</td>\n",
              "      <td>1512.573205</td>\n",
              "      <td>2185.426352</td>\n",
              "      <td>2209.649465</td>\n",
              "      <td>463.479493</td>\n",
              "      <td>4184.510744</td>\n",
              "      <td>1685.747285</td>\n",
              "      <td>1870.408057</td>\n",
              "      <td>1670.999466</td>\n",
              "      <td>1690.537112</td>\n",
              "      <td>2365.806159</td>\n",
              "      <td>2401.047899</td>\n",
              "      <td>1445.904071</td>\n",
              "      <td>1459.255747</td>\n",
              "      <td>1559.196678</td>\n",
              "      <td>1575.645537</td>\n",
              "      <td>1508.056220</td>\n",
              "      <td>2149.026132</td>\n",
              "      <td>1655.040714</td>\n",
              "      <td>1672.317650</td>\n",
              "      <td>2180.998122</td>\n",
              "      <td>2201.755387</td>\n",
              "      <td>1238.347648</td>\n",
              "      <td>1410.177431</td>\n",
              "      <td>1372.197927</td>\n",
              "      <td>1600.826616</td>\n",
              "    </tr>\n",
              "    <tr>\n",
              "      <th>2021-05-01</th>\n",
              "      <td>1657.064202</td>\n",
              "      <td>1689.774600</td>\n",
              "      <td>1873.575912</td>\n",
              "      <td>1940.423125</td>\n",
              "      <td>1929.408623</td>\n",
              "      <td>1986.667810</td>\n",
              "      <td>1402.728876</td>\n",
              "      <td>1573.662248</td>\n",
              "      <td>1386.993264</td>\n",
              "      <td>2031.867709</td>\n",
              "      <td>1822.587948</td>\n",
              "      <td>2111.508730</td>\n",
              "      <td>1951.872949</td>\n",
              "      <td>2113.095137</td>\n",
              "      <td>1858.658775</td>\n",
              "      <td>2356.302999</td>\n",
              "      <td>2509.110052</td>\n",
              "      <td>2612.052027</td>\n",
              "      <td>2562.110917</td>\n",
              "      <td>3168.349924</td>\n",
              "      <td>1960.827842</td>\n",
              "      <td>6403.805369</td>\n",
              "      <td>1958.560516</td>\n",
              "      <td>2059.535762</td>\n",
              "      <td>1860.111210</td>\n",
              "      <td>2249.418562</td>\n",
              "      <td>2224.759297</td>\n",
              "      <td>2310.563536</td>\n",
              "      <td>2361.267495</td>\n",
              "      <td>2430.820838</td>\n",
              "      <td>2485.118014</td>\n",
              "      <td>2580.133254</td>\n",
              "      <td>2738.104152</td>\n",
              "      <td>2812.036581</td>\n",
              "      <td>3387.644405</td>\n",
              "      <td>3640.168532</td>\n",
              "      <td>1907.589227</td>\n",
              "      <td>3485.449243</td>\n",
              "      <td>2408.713068</td>\n",
              "      <td>2438.842637</td>\n",
              "      <td>...</td>\n",
              "      <td>2208.787589</td>\n",
              "      <td>2232.519120</td>\n",
              "      <td>1932.900438</td>\n",
              "      <td>1954.104664</td>\n",
              "      <td>1059.407593</td>\n",
              "      <td>1890.449277</td>\n",
              "      <td>1573.233545</td>\n",
              "      <td>1612.561727</td>\n",
              "      <td>1544.770806</td>\n",
              "      <td>1581.981834</td>\n",
              "      <td>1725.769851</td>\n",
              "      <td>1873.814192</td>\n",
              "      <td>1444.767950</td>\n",
              "      <td>1464.512174</td>\n",
              "      <td>1352.110542</td>\n",
              "      <td>1522.283831</td>\n",
              "      <td>2202.777248</td>\n",
              "      <td>2235.141261</td>\n",
              "      <td>23.388638</td>\n",
              "      <td>3744.406908</td>\n",
              "      <td>1689.976475</td>\n",
              "      <td>1880.304991</td>\n",
              "      <td>1674.225590</td>\n",
              "      <td>1699.630528</td>\n",
              "      <td>2381.557260</td>\n",
              "      <td>2428.579567</td>\n",
              "      <td>1448.081251</td>\n",
              "      <td>1465.342165</td>\n",
              "      <td>1562.400970</td>\n",
              "      <td>1583.909647</td>\n",
              "      <td>1396.302467</td>\n",
              "      <td>2045.608160</td>\n",
              "      <td>1658.845467</td>\n",
              "      <td>1681.198110</td>\n",
              "      <td>2187.406965</td>\n",
              "      <td>2214.967596</td>\n",
              "      <td>1202.821602</td>\n",
              "      <td>1375.925484</td>\n",
              "      <td>1379.779766</td>\n",
              "      <td>1611.993233</td>\n",
              "    </tr>\n",
              "  </tbody>\n",
              "</table>\n",
              "<p>5 rows × 4526 columns</p>\n",
              "</div>"
            ],
            "text/plain": [
              "            lower value  upper value  ...  lower value.2262  upper value.2262\n",
              "2021-01-01  1669.490492  1674.893644  ...       1355.756236       1569.255920\n",
              "2021-02-01  1667.457448  1678.461767  ...       1358.264769       1579.238264\n",
              "2021-03-01  1664.597923  1682.118036  ...       1364.288549       1589.251376\n",
              "2021-04-01  1661.970767  1686.767107  ...       1372.197927       1600.826616\n",
              "2021-05-01  1657.064202  1689.774600  ...       1379.779766       1611.993233\n",
              "\n",
              "[5 rows x 4526 columns]"
            ]
          },
          "metadata": {
            "tags": []
          },
          "execution_count": 23
        }
      ]
    },
    {
      "cell_type": "markdown",
      "metadata": {
        "id": "HfXvqrSjx0b-"
      },
      "source": [
        "# Visualization\r\n"
      ]
    },
    {
      "cell_type": "code",
      "metadata": {
        "id": "mN6twP2Nx-pd"
      },
      "source": [
        "# Get forecast price based on zip and number of forecast values\r\n",
        "\r\n",
        "def plot_forecast(zip, steps):\r\n",
        "  forecast = model_df_all.loc[model_df_all['zip'] == zip, 'model'].item().get_forecast(steps = steps)\r\n",
        "  forecast_conf = forecast.conf_int()\r\n",
        "  ax = tidy_dict[zip]['value'].plot(label='Observed', figsize= (10, 8))\r\n",
        "  forecast.predicted_mean.plot(ax=ax, label='Forecast')\r\n",
        "  ax.fill_between(forecast_conf.index,\r\n",
        "                    forecast_conf.iloc[:, 0],\r\n",
        "                    forecast_conf.iloc[:, 1], color='k', alpha=.25)\r\n",
        "  \r\n",
        "  df_name = df_orig.copy()\r\n",
        "  df_name = df_name[['RegionName', 'MsaName']]\r\n",
        "  reg_name = df_name.loc[df_name['RegionName'] ==1752, 'MsaName'].item()\r\n",
        "\r\n",
        "  ax.set_xlabel('Year')\r\n",
        "  ax.set_ylabel('Property Rental Price')\r\n",
        "  plt.title(reg_name)\r\n",
        "  plt.legend()\r\n",
        "  plt.show()"
      ],
      "execution_count": 135,
      "outputs": []
    },
    {
      "cell_type": "code",
      "metadata": {
        "colab": {
          "base_uri": "https://localhost:8080/",
          "height": 513
        },
        "id": "LLmpbqlTyAhV",
        "outputId": "ce35b1a0-7f8e-414e-fd28-9fb20ae35157"
      },
      "source": [
        "plot_forecast(1752, 18)"
      ],
      "execution_count": 136,
      "outputs": [
        {
          "output_type": "display_data",
          "data": {
            "image/png": "[encoded data removed]",
            "text/plain": [
              "<Figure size 720x576 with 1 Axes>"
            ]
          },
          "metadata": {
            "tags": [],
            "needs_background": "light"
          }
        }
      ]
    },
    {
      "cell_type": "code",
      "metadata": {
        "colab": {
          "base_uri": "https://localhost:8080/",
          "height": 513
        },
        "id": "rzYefTPzyAce",
        "outputId": "7be85aa7-efac-4afa-8ad2-13f8486444c7"
      },
      "source": [
        "plot_forecast(1852, 20)"
      ],
      "execution_count": 137,
      "outputs": [
        {
          "output_type": "display_data",
          "data": {
            "image/png": "[encoded data removed]",
            "text/plain": [
              "<Figure size 720x576 with 1 Axes>"
            ]
          },
          "metadata": {
            "tags": [],
            "needs_background": "light"
          }
        }
      ]
    },
    {
      "cell_type": "markdown",
      "metadata": {
        "id": "ArQ799toxhvG"
      },
      "source": [
        "# Forecasting based on Zipcode"
      ]
    },
    {
      "cell_type": "code",
      "metadata": {
        "id": "--OT-Xnmj4nG"
      },
      "source": [
        "!pip install uszipcode"
      ],
      "execution_count": null,
      "outputs": []
    },
    {
      "cell_type": "code",
      "metadata": {
        "id": "FyZD6XqlkXyd"
      },
      "source": [
        "# Grabbing the corresponding cities, states and counties of the zipcodes in the dataset\r\n",
        "from uszipcode import SearchEngine\r\n",
        "search = SearchEngine(simple_zipcode=True)\r\n",
        "\r\n",
        "city = []\r\n",
        "state = []\r\n",
        "county = []\r\n",
        "for zip in list(df_dict.keys()):\r\n",
        "  search = SearchEngine(simple_zipcode=True)\r\n",
        "  cityi = search.by_zipcode(zip).city\r\n",
        "  statei = search.by_zipcode(zip).state\r\n",
        "  countyi = search.by_zipcode(zip).county\r\n",
        "\r\n",
        "  city.append(cityi)\r\n",
        "  state.append(statei)\r\n",
        "  county.append(countyi)"
      ],
      "execution_count": 37,
      "outputs": []
    },
    {
      "cell_type": "code",
      "metadata": {
        "id": "5v2ZlY2_k9ky"
      },
      "source": [
        "# Doubling each item because we have a low and high values per zipcode\r\n",
        "\r\n",
        "zip_codes =list(df_dict.keys())\r\n",
        "zip_codes2 = list(itertools.chain.from_iterable(itertools.repeat(x, 2) for x in zip_codes))\r\n",
        "level = ['low', 'high'] * len(zip_codes)\r\n",
        "\r\n",
        "cities = list(itertools.chain.from_iterable(itertools.repeat(x, 2) for x in city))\r\n",
        "states = list(itertools.chain.from_iterable(itertools.repeat(x, 2) for x in state))\r\n",
        "counties = list(itertools.chain.from_iterable(itertools.repeat(x, 2) for x in county))\r\n",
        "\r\n"
      ],
      "execution_count": 42,
      "outputs": []
    },
    {
      "cell_type": "code",
      "metadata": {
        "colab": {
          "base_uri": "https://localhost:8080/",
          "height": 204
        },
        "id": "7UKdgy_VlNZR",
        "outputId": "5dbe3b5c-2511-4867-907f-0c50609653ca"
      },
      "source": [
        "#Converting index to datetime object\r\n",
        "\r\n",
        "forecast_5months.index = pd.to_datetime(forecast_5months.index, format='%Y%m%d',errors='ignore')\r\n",
        "\r\n",
        "# Casting all values to integer\r\n",
        "for col in forecast_5months.columns:\r\n",
        "  forecast_5months[col] = forecast_5months[col].astype(int)\r\n",
        "\r\n",
        "# Transposing the dataframe\r\n",
        "forecast_5months= forecast_5months.T\r\n",
        "forecast_5months = forecast_5months.reset_index(drop = True)\r\n",
        "forecast_5months.head()"
      ],
      "execution_count": 50,
      "outputs": [
        {
          "output_type": "execute_result",
          "data": {
            "text/html": [
              "<div>\n",
              "<style scoped>\n",
              "    .dataframe tbody tr th:only-of-type {\n",
              "        vertical-align: middle;\n",
              "    }\n",
              "\n",
              "    .dataframe tbody tr th {\n",
              "        vertical-align: top;\n",
              "    }\n",
              "\n",
              "    .dataframe thead th {\n",
              "        text-align: right;\n",
              "    }\n",
              "</style>\n",
              "<table border=\"1\" class=\"dataframe\">\n",
              "  <thead>\n",
              "    <tr style=\"text-align: right;\">\n",
              "      <th></th>\n",
              "      <th>2021-01-01</th>\n",
              "      <th>2021-02-01</th>\n",
              "      <th>2021-03-01</th>\n",
              "      <th>2021-04-01</th>\n",
              "      <th>2021-05-01</th>\n",
              "    </tr>\n",
              "  </thead>\n",
              "  <tbody>\n",
              "    <tr>\n",
              "      <th>0</th>\n",
              "      <td>1669</td>\n",
              "      <td>1667</td>\n",
              "      <td>1664</td>\n",
              "      <td>1661</td>\n",
              "      <td>1657</td>\n",
              "    </tr>\n",
              "    <tr>\n",
              "      <th>1</th>\n",
              "      <td>1674</td>\n",
              "      <td>1678</td>\n",
              "      <td>1682</td>\n",
              "      <td>1686</td>\n",
              "      <td>1689</td>\n",
              "    </tr>\n",
              "    <tr>\n",
              "      <th>2</th>\n",
              "      <td>1933</td>\n",
              "      <td>1919</td>\n",
              "      <td>1904</td>\n",
              "      <td>1889</td>\n",
              "      <td>1873</td>\n",
              "    </tr>\n",
              "    <tr>\n",
              "      <th>3</th>\n",
              "      <td>1942</td>\n",
              "      <td>1940</td>\n",
              "      <td>1939</td>\n",
              "      <td>1940</td>\n",
              "      <td>1940</td>\n",
              "    </tr>\n",
              "    <tr>\n",
              "      <th>4</th>\n",
              "      <td>2003</td>\n",
              "      <td>1984</td>\n",
              "      <td>1966</td>\n",
              "      <td>1949</td>\n",
              "      <td>1929</td>\n",
              "    </tr>\n",
              "  </tbody>\n",
              "</table>\n",
              "</div>"
            ],
            "text/plain": [
              "   2021-01-01  2021-02-01  2021-03-01  2021-04-01  2021-05-01\n",
              "0        1669        1667        1664        1661        1657\n",
              "1        1674        1678        1682        1686        1689\n",
              "2        1933        1919        1904        1889        1873\n",
              "3        1942        1940        1939        1940        1940\n",
              "4        2003        1984        1966        1949        1929"
            ]
          },
          "metadata": {
            "tags": []
          },
          "execution_count": 50
        }
      ]
    },
    {
      "cell_type": "code",
      "metadata": {
        "colab": {
          "base_uri": "https://localhost:8080/",
          "height": 204
        },
        "id": "JFHu1wLMofso",
        "outputId": "d21d3dc6-8149-4cb1-81a3-0b6fbf187784"
      },
      "source": [
        "# Instantiate a new dataframe with other info\r\n",
        "\r\n",
        "label_df = pd.DataFrame()\r\n",
        "label_df['zip']= zip_codes2\r\n",
        "label_df['city']= cities\r\n",
        "label_df['zip']= label_df['zip'].apply(lambda x: str(x).zfill(5))\r\n",
        "label_df['county']= counties\r\n",
        "label_df['state']= states\r\n",
        "label_df['level']= level\r\n",
        "\r\n",
        "# Concatenate other info and forecast\r\n",
        "forecast_label = pd.concat([label_df, forecast_5months], axis = 1)\r\n",
        "forecast_label.tail()"
      ],
      "execution_count": 52,
      "outputs": [
        {
          "output_type": "execute_result",
          "data": {
            "text/html": [
              "<div>\n",
              "<style scoped>\n",
              "    .dataframe tbody tr th:only-of-type {\n",
              "        vertical-align: middle;\n",
              "    }\n",
              "\n",
              "    .dataframe tbody tr th {\n",
              "        vertical-align: top;\n",
              "    }\n",
              "\n",
              "    .dataframe thead th {\n",
              "        text-align: right;\n",
              "    }\n",
              "</style>\n",
              "<table border=\"1\" class=\"dataframe\">\n",
              "  <thead>\n",
              "    <tr style=\"text-align: right;\">\n",
              "      <th></th>\n",
              "      <th>zip</th>\n",
              "      <th>city</th>\n",
              "      <th>county</th>\n",
              "      <th>state</th>\n",
              "      <th>level</th>\n",
              "      <th>2021-01-01</th>\n",
              "      <th>2021-02-01</th>\n",
              "      <th>2021-03-01</th>\n",
              "      <th>2021-04-01</th>\n",
              "      <th>2021-05-01</th>\n",
              "    </tr>\n",
              "  </thead>\n",
              "  <tbody>\n",
              "    <tr>\n",
              "      <th>4521</th>\n",
              "      <td>98685</td>\n",
              "      <td>Vancouver</td>\n",
              "      <td>Clark County</td>\n",
              "      <td>WA</td>\n",
              "      <td>high</td>\n",
              "      <td>2163</td>\n",
              "      <td>2175</td>\n",
              "      <td>2188</td>\n",
              "      <td>2201</td>\n",
              "      <td>2214</td>\n",
              "    </tr>\n",
              "    <tr>\n",
              "      <th>4522</th>\n",
              "      <td>99205</td>\n",
              "      <td>Spokane</td>\n",
              "      <td>Spokane County</td>\n",
              "      <td>WA</td>\n",
              "      <td>low</td>\n",
              "      <td>1172</td>\n",
              "      <td>1181</td>\n",
              "      <td>1188</td>\n",
              "      <td>1238</td>\n",
              "      <td>1202</td>\n",
              "    </tr>\n",
              "    <tr>\n",
              "      <th>4523</th>\n",
              "      <td>99205</td>\n",
              "      <td>Spokane</td>\n",
              "      <td>Spokane County</td>\n",
              "      <td>WA</td>\n",
              "      <td>high</td>\n",
              "      <td>1341</td>\n",
              "      <td>1350</td>\n",
              "      <td>1359</td>\n",
              "      <td>1410</td>\n",
              "      <td>1375</td>\n",
              "    </tr>\n",
              "    <tr>\n",
              "      <th>4524</th>\n",
              "      <td>99208</td>\n",
              "      <td>Spokane</td>\n",
              "      <td>Spokane County</td>\n",
              "      <td>WA</td>\n",
              "      <td>low</td>\n",
              "      <td>1355</td>\n",
              "      <td>1358</td>\n",
              "      <td>1364</td>\n",
              "      <td>1372</td>\n",
              "      <td>1379</td>\n",
              "    </tr>\n",
              "    <tr>\n",
              "      <th>4525</th>\n",
              "      <td>99208</td>\n",
              "      <td>Spokane</td>\n",
              "      <td>Spokane County</td>\n",
              "      <td>WA</td>\n",
              "      <td>high</td>\n",
              "      <td>1569</td>\n",
              "      <td>1579</td>\n",
              "      <td>1589</td>\n",
              "      <td>1600</td>\n",
              "      <td>1611</td>\n",
              "    </tr>\n",
              "  </tbody>\n",
              "</table>\n",
              "</div>"
            ],
            "text/plain": [
              "        zip       city          county  ... 2021-03-01 2021-04-01  2021-05-01\n",
              "4521  98685  Vancouver    Clark County  ...       2188       2201        2214\n",
              "4522  99205    Spokane  Spokane County  ...       1188       1238        1202\n",
              "4523  99205    Spokane  Spokane County  ...       1359       1410        1375\n",
              "4524  99208    Spokane  Spokane County  ...       1364       1372        1379\n",
              "4525  99208    Spokane  Spokane County  ...       1589       1600        1611\n",
              "\n",
              "[5 rows x 10 columns]"
            ]
          },
          "metadata": {
            "tags": []
          },
          "execution_count": 52
        }
      ]
    },
    {
      "cell_type": "code",
      "metadata": {
        "colab": {
          "base_uri": "https://localhost:8080/",
          "height": 111
        },
        "id": "iEKSc8TTpAJf",
        "outputId": "0df3992c-a603-486b-8905-00276891ddc7"
      },
      "source": [
        "# Try it\r\n",
        "forecast_label[forecast_label[\"city\"]==\"Evanston\"]"
      ],
      "execution_count": 53,
      "outputs": [
        {
          "output_type": "execute_result",
          "data": {
            "text/html": [
              "<div>\n",
              "<style scoped>\n",
              "    .dataframe tbody tr th:only-of-type {\n",
              "        vertical-align: middle;\n",
              "    }\n",
              "\n",
              "    .dataframe tbody tr th {\n",
              "        vertical-align: top;\n",
              "    }\n",
              "\n",
              "    .dataframe thead th {\n",
              "        text-align: right;\n",
              "    }\n",
              "</style>\n",
              "<table border=\"1\" class=\"dataframe\">\n",
              "  <thead>\n",
              "    <tr style=\"text-align: right;\">\n",
              "      <th></th>\n",
              "      <th>zip</th>\n",
              "      <th>city</th>\n",
              "      <th>county</th>\n",
              "      <th>state</th>\n",
              "      <th>level</th>\n",
              "      <th>2021-01-01</th>\n",
              "      <th>2021-02-01</th>\n",
              "      <th>2021-03-01</th>\n",
              "      <th>2021-04-01</th>\n",
              "      <th>2021-05-01</th>\n",
              "    </tr>\n",
              "  </thead>\n",
              "  <tbody>\n",
              "    <tr>\n",
              "      <th>2386</th>\n",
              "      <td>60202</td>\n",
              "      <td>Evanston</td>\n",
              "      <td>Cook County</td>\n",
              "      <td>IL</td>\n",
              "      <td>low</td>\n",
              "      <td>1554</td>\n",
              "      <td>1542</td>\n",
              "      <td>1529</td>\n",
              "      <td>1515</td>\n",
              "      <td>1501</td>\n",
              "    </tr>\n",
              "    <tr>\n",
              "      <th>2387</th>\n",
              "      <td>60202</td>\n",
              "      <td>Evanston</td>\n",
              "      <td>Cook County</td>\n",
              "      <td>IL</td>\n",
              "      <td>high</td>\n",
              "      <td>1561</td>\n",
              "      <td>1557</td>\n",
              "      <td>1554</td>\n",
              "      <td>1550</td>\n",
              "      <td>1548</td>\n",
              "    </tr>\n",
              "  </tbody>\n",
              "</table>\n",
              "</div>"
            ],
            "text/plain": [
              "        zip      city       county  ... 2021-03-01 2021-04-01  2021-05-01\n",
              "2386  60202  Evanston  Cook County  ...       1529       1515        1501\n",
              "2387  60202  Evanston  Cook County  ...       1554       1550        1548\n",
              "\n",
              "[2 rows x 10 columns]"
            ]
          },
          "metadata": {
            "tags": []
          },
          "execution_count": 53
        }
      ]
    },
    {
      "cell_type": "code",
      "metadata": {
        "colab": {
          "base_uri": "https://localhost:8080/",
          "height": 204
        },
        "id": "Bx5gIwnKpQhc",
        "outputId": "3835e630-29f3-41ac-915b-d1ce5c1224e4"
      },
      "source": [
        "city_df = forecast_label[['zip', 'level', '2021-01-01',\t'2021-02-01',\t'2021-03-01',\t'2021-04-01',\t'2021-05-01']]\r\n",
        "city_df.columns = ['zip', 'level', 'in_1_month', 'in_2_months', 'in_3_months', 'in_4_months', 'in_5_months']\r\n",
        "city_df.head()"
      ],
      "execution_count": 54,
      "outputs": [
        {
          "output_type": "execute_result",
          "data": {
            "text/html": [
              "<div>\n",
              "<style scoped>\n",
              "    .dataframe tbody tr th:only-of-type {\n",
              "        vertical-align: middle;\n",
              "    }\n",
              "\n",
              "    .dataframe tbody tr th {\n",
              "        vertical-align: top;\n",
              "    }\n",
              "\n",
              "    .dataframe thead th {\n",
              "        text-align: right;\n",
              "    }\n",
              "</style>\n",
              "<table border=\"1\" class=\"dataframe\">\n",
              "  <thead>\n",
              "    <tr style=\"text-align: right;\">\n",
              "      <th></th>\n",
              "      <th>zip</th>\n",
              "      <th>level</th>\n",
              "      <th>in_1_month</th>\n",
              "      <th>in_2_months</th>\n",
              "      <th>in_3_months</th>\n",
              "      <th>in_4_months</th>\n",
              "      <th>in_5_months</th>\n",
              "    </tr>\n",
              "  </thead>\n",
              "  <tbody>\n",
              "    <tr>\n",
              "      <th>0</th>\n",
              "      <td>01752</td>\n",
              "      <td>low</td>\n",
              "      <td>1669</td>\n",
              "      <td>1667</td>\n",
              "      <td>1664</td>\n",
              "      <td>1661</td>\n",
              "      <td>1657</td>\n",
              "    </tr>\n",
              "    <tr>\n",
              "      <th>1</th>\n",
              "      <td>01752</td>\n",
              "      <td>high</td>\n",
              "      <td>1674</td>\n",
              "      <td>1678</td>\n",
              "      <td>1682</td>\n",
              "      <td>1686</td>\n",
              "      <td>1689</td>\n",
              "    </tr>\n",
              "    <tr>\n",
              "      <th>2</th>\n",
              "      <td>01760</td>\n",
              "      <td>low</td>\n",
              "      <td>1933</td>\n",
              "      <td>1919</td>\n",
              "      <td>1904</td>\n",
              "      <td>1889</td>\n",
              "      <td>1873</td>\n",
              "    </tr>\n",
              "    <tr>\n",
              "      <th>3</th>\n",
              "      <td>01760</td>\n",
              "      <td>high</td>\n",
              "      <td>1942</td>\n",
              "      <td>1940</td>\n",
              "      <td>1939</td>\n",
              "      <td>1940</td>\n",
              "      <td>1940</td>\n",
              "    </tr>\n",
              "    <tr>\n",
              "      <th>4</th>\n",
              "      <td>01801</td>\n",
              "      <td>low</td>\n",
              "      <td>2003</td>\n",
              "      <td>1984</td>\n",
              "      <td>1966</td>\n",
              "      <td>1949</td>\n",
              "      <td>1929</td>\n",
              "    </tr>\n",
              "  </tbody>\n",
              "</table>\n",
              "</div>"
            ],
            "text/plain": [
              "     zip level  in_1_month  in_2_months  in_3_months  in_4_months  in_5_months\n",
              "0  01752   low        1669         1667         1664         1661         1657\n",
              "1  01752  high        1674         1678         1682         1686         1689\n",
              "2  01760   low        1933         1919         1904         1889         1873\n",
              "3  01760  high        1942         1940         1939         1940         1940\n",
              "4  01801   low        2003         1984         1966         1949         1929"
            ]
          },
          "metadata": {
            "tags": []
          },
          "execution_count": 54
        }
      ]
    },
    {
      "cell_type": "code",
      "metadata": {
        "colab": {
          "base_uri": "https://localhost:8080/",
          "height": 204
        },
        "id": "-kBzIOcyp27X",
        "outputId": "1dca9ff8-dae9-4d3f-ed78-90de22c27ba7"
      },
      "source": [
        "# Grab csv version of database table 'cities'\r\n",
        "\r\n",
        "df = pd.read_csv(\"/content/city.csv\", index_col = [0])\r\n",
        "\r\n",
        "# Take a subset\r\n",
        "df_city = df[['city_id',\t'city_name', 'state_abbreviation']]\r\n",
        "df_city.head()"
      ],
      "execution_count": 60,
      "outputs": [
        {
          "output_type": "execute_result",
          "data": {
            "text/html": [
              "<div>\n",
              "<style scoped>\n",
              "    .dataframe tbody tr th:only-of-type {\n",
              "        vertical-align: middle;\n",
              "    }\n",
              "\n",
              "    .dataframe tbody tr th {\n",
              "        vertical-align: top;\n",
              "    }\n",
              "\n",
              "    .dataframe thead th {\n",
              "        text-align: right;\n",
              "    }\n",
              "</style>\n",
              "<table border=\"1\" class=\"dataframe\">\n",
              "  <thead>\n",
              "    <tr style=\"text-align: right;\">\n",
              "      <th></th>\n",
              "      <th>city_id</th>\n",
              "      <th>city_name</th>\n",
              "      <th>state_abbreviation</th>\n",
              "    </tr>\n",
              "  </thead>\n",
              "  <tbody>\n",
              "    <tr>\n",
              "      <th>0</th>\n",
              "      <td>100124</td>\n",
              "      <td>Abbeville                                     ...</td>\n",
              "      <td>AL</td>\n",
              "    </tr>\n",
              "    <tr>\n",
              "      <th>1</th>\n",
              "      <td>100460</td>\n",
              "      <td>Adamsville                                    ...</td>\n",
              "      <td>AL</td>\n",
              "    </tr>\n",
              "    <tr>\n",
              "      <th>2</th>\n",
              "      <td>100484</td>\n",
              "      <td>Addison                                       ...</td>\n",
              "      <td>AL</td>\n",
              "    </tr>\n",
              "    <tr>\n",
              "      <th>3</th>\n",
              "      <td>100676</td>\n",
              "      <td>Akron                                         ...</td>\n",
              "      <td>AL</td>\n",
              "    </tr>\n",
              "    <tr>\n",
              "      <th>4</th>\n",
              "      <td>100820</td>\n",
              "      <td>Alabaster                                     ...</td>\n",
              "      <td>AL</td>\n",
              "    </tr>\n",
              "  </tbody>\n",
              "</table>\n",
              "</div>"
            ],
            "text/plain": [
              "   city_id  ... state_abbreviation\n",
              "0   100124  ...                 AL\n",
              "1   100460  ...                 AL\n",
              "2   100484  ...                 AL\n",
              "3   100676  ...                 AL\n",
              "4   100820  ...                 AL\n",
              "\n",
              "[5 rows x 3 columns]"
            ]
          },
          "metadata": {
            "tags": []
          },
          "execution_count": 60
        }
      ]
    },
    {
      "cell_type": "code",
      "metadata": {
        "colab": {
          "base_uri": "https://localhost:8080/",
          "height": 142
        },
        "id": "BSD6o680qT51",
        "outputId": "3c9bef85-522c-4643-ce4d-da1624032f0a"
      },
      "source": [
        "# Get the one word version of the city names\r\n",
        "\r\n",
        "places = []\r\n",
        "for place in list(df_city['city_name']):\r\n",
        "  place = place.split(\" \")[0]\r\n",
        "  places.append(place)\r\n",
        "\r\n",
        "df_city['city'] = places\r\n",
        "df_city = df_city.drop(columns = ['city_name'])\r\n",
        "df_city.head(3)"
      ],
      "execution_count": 61,
      "outputs": [
        {
          "output_type": "execute_result",
          "data": {
            "text/html": [
              "<div>\n",
              "<style scoped>\n",
              "    .dataframe tbody tr th:only-of-type {\n",
              "        vertical-align: middle;\n",
              "    }\n",
              "\n",
              "    .dataframe tbody tr th {\n",
              "        vertical-align: top;\n",
              "    }\n",
              "\n",
              "    .dataframe thead th {\n",
              "        text-align: right;\n",
              "    }\n",
              "</style>\n",
              "<table border=\"1\" class=\"dataframe\">\n",
              "  <thead>\n",
              "    <tr style=\"text-align: right;\">\n",
              "      <th></th>\n",
              "      <th>city_id</th>\n",
              "      <th>state_abbreviation</th>\n",
              "      <th>city</th>\n",
              "    </tr>\n",
              "  </thead>\n",
              "  <tbody>\n",
              "    <tr>\n",
              "      <th>0</th>\n",
              "      <td>100124</td>\n",
              "      <td>AL</td>\n",
              "      <td>Abbeville</td>\n",
              "    </tr>\n",
              "    <tr>\n",
              "      <th>1</th>\n",
              "      <td>100460</td>\n",
              "      <td>AL</td>\n",
              "      <td>Adamsville</td>\n",
              "    </tr>\n",
              "    <tr>\n",
              "      <th>2</th>\n",
              "      <td>100484</td>\n",
              "      <td>AL</td>\n",
              "      <td>Addison</td>\n",
              "    </tr>\n",
              "  </tbody>\n",
              "</table>\n",
              "</div>"
            ],
            "text/plain": [
              "   city_id state_abbreviation        city\n",
              "0   100124                 AL   Abbeville\n",
              "1   100460                 AL  Adamsville\n",
              "2   100484                 AL     Addison"
            ]
          },
          "metadata": {
            "tags": []
          },
          "execution_count": 61
        }
      ]
    },
    {
      "cell_type": "code",
      "metadata": {
        "id": "-nxOsnR-qf1l"
      },
      "source": [
        "# merge the two dataframes to get city_id, this will be used as foreign_key to connect to other tables in the database\r\n",
        "\r\n",
        "new_df = forecast_label.merge(df_city, how = \"left\", left_on = ['city', 'state'], right_on = ['city', 'state_abbreviation'])\r\n",
        "new_df= new_df.dropna()\r\n",
        "\r\n",
        "# \r\n",
        "city_i = []\r\n",
        "for i in new_df['city_id']:\r\n",
        "  id = int(i)\r\n",
        "  city_i.append(id)\r\n",
        "\r\n",
        "new_df['city_id'] = city_i\r\n"
      ],
      "execution_count": 64,
      "outputs": []
    },
    {
      "cell_type": "markdown",
      "metadata": {
        "id": "0Ev84eDrrsju"
      },
      "source": [
        "# Using Zipcode as index"
      ]
    },
    {
      "cell_type": "code",
      "metadata": {
        "colab": {
          "base_uri": "https://localhost:8080/",
          "height": 142
        },
        "id": "u5BzqPjWrUnK",
        "outputId": "9c1cf9b8-904e-48e0-f126-8d52fc65a664"
      },
      "source": [
        "# Renaming columns\r\n",
        "\r\n",
        "zip_df = new_df[['zip', 'city_id', 'level', '2021-01-01',\t'2021-02-01',\t'2021-03-01',\t'2021-04-01',\t'2021-05-01']]\r\n",
        "zip_df.columns = ['zip', 'city_id', 'level', 'in_1_month', 'in_2_months', 'in_3_months', 'in_4_months', 'in_5_months']\r\n",
        "zip_df.head(3)"
      ],
      "execution_count": 65,
      "outputs": [
        {
          "output_type": "execute_result",
          "data": {
            "text/html": [
              "<div>\n",
              "<style scoped>\n",
              "    .dataframe tbody tr th:only-of-type {\n",
              "        vertical-align: middle;\n",
              "    }\n",
              "\n",
              "    .dataframe tbody tr th {\n",
              "        vertical-align: top;\n",
              "    }\n",
              "\n",
              "    .dataframe thead th {\n",
              "        text-align: right;\n",
              "    }\n",
              "</style>\n",
              "<table border=\"1\" class=\"dataframe\">\n",
              "  <thead>\n",
              "    <tr style=\"text-align: right;\">\n",
              "      <th></th>\n",
              "      <th>zip</th>\n",
              "      <th>city_id</th>\n",
              "      <th>level</th>\n",
              "      <th>in_1_month</th>\n",
              "      <th>in_2_months</th>\n",
              "      <th>in_3_months</th>\n",
              "      <th>in_4_months</th>\n",
              "      <th>in_5_months</th>\n",
              "    </tr>\n",
              "  </thead>\n",
              "  <tbody>\n",
              "    <tr>\n",
              "      <th>0</th>\n",
              "      <td>01752</td>\n",
              "      <td>2538715</td>\n",
              "      <td>low</td>\n",
              "      <td>1669</td>\n",
              "      <td>1667</td>\n",
              "      <td>1664</td>\n",
              "      <td>1661</td>\n",
              "      <td>1657</td>\n",
              "    </tr>\n",
              "    <tr>\n",
              "      <th>1</th>\n",
              "      <td>01752</td>\n",
              "      <td>2538715</td>\n",
              "      <td>high</td>\n",
              "      <td>1674</td>\n",
              "      <td>1678</td>\n",
              "      <td>1682</td>\n",
              "      <td>1686</td>\n",
              "      <td>1689</td>\n",
              "    </tr>\n",
              "    <tr>\n",
              "      <th>4</th>\n",
              "      <td>01801</td>\n",
              "      <td>2581035</td>\n",
              "      <td>low</td>\n",
              "      <td>2003</td>\n",
              "      <td>1984</td>\n",
              "      <td>1966</td>\n",
              "      <td>1949</td>\n",
              "      <td>1929</td>\n",
              "    </tr>\n",
              "  </tbody>\n",
              "</table>\n",
              "</div>"
            ],
            "text/plain": [
              "     zip  city_id level  ...  in_3_months  in_4_months  in_5_months\n",
              "0  01752  2538715   low  ...         1664         1661         1657\n",
              "1  01752  2538715  high  ...         1682         1686         1689\n",
              "4  01801  2581035   low  ...         1966         1949         1929\n",
              "\n",
              "[3 rows x 8 columns]"
            ]
          },
          "metadata": {
            "tags": []
          },
          "execution_count": 65
        }
      ]
    },
    {
      "cell_type": "code",
      "metadata": {
        "colab": {
          "base_uri": "https://localhost:8080/",
          "height": 266
        },
        "id": "E7v9LwV1r6S4",
        "outputId": "47f56506-f70d-4601-9a63-934f904db399"
      },
      "source": [
        "# # pivot table\r\n",
        "city_d = pd.pivot_table(zip_df, index = ['zip'], columns = 'level', values = ['in_1_month', \r\n",
        "                                                                              'in_2_months', \r\n",
        "                                                                              'in_3_months', \r\n",
        "                                                                              'in_4_months', \r\n",
        "                                                                              'in_5_months'])\r\n",
        "city_d.head(5)"
      ],
      "execution_count": 67,
      "outputs": [
        {
          "output_type": "execute_result",
          "data": {
            "text/html": [
              "<div>\n",
              "<style scoped>\n",
              "    .dataframe tbody tr th:only-of-type {\n",
              "        vertical-align: middle;\n",
              "    }\n",
              "\n",
              "    .dataframe tbody tr th {\n",
              "        vertical-align: top;\n",
              "    }\n",
              "\n",
              "    .dataframe thead tr th {\n",
              "        text-align: left;\n",
              "    }\n",
              "\n",
              "    .dataframe thead tr:last-of-type th {\n",
              "        text-align: right;\n",
              "    }\n",
              "</style>\n",
              "<table border=\"1\" class=\"dataframe\">\n",
              "  <thead>\n",
              "    <tr>\n",
              "      <th></th>\n",
              "      <th colspan=\"2\" halign=\"left\">in_1_month</th>\n",
              "      <th colspan=\"2\" halign=\"left\">in_2_months</th>\n",
              "      <th colspan=\"2\" halign=\"left\">in_3_months</th>\n",
              "      <th colspan=\"2\" halign=\"left\">in_4_months</th>\n",
              "      <th colspan=\"2\" halign=\"left\">in_5_months</th>\n",
              "    </tr>\n",
              "    <tr>\n",
              "      <th>level</th>\n",
              "      <th>high</th>\n",
              "      <th>low</th>\n",
              "      <th>high</th>\n",
              "      <th>low</th>\n",
              "      <th>high</th>\n",
              "      <th>low</th>\n",
              "      <th>high</th>\n",
              "      <th>low</th>\n",
              "      <th>high</th>\n",
              "      <th>low</th>\n",
              "    </tr>\n",
              "    <tr>\n",
              "      <th>zip</th>\n",
              "      <th></th>\n",
              "      <th></th>\n",
              "      <th></th>\n",
              "      <th></th>\n",
              "      <th></th>\n",
              "      <th></th>\n",
              "      <th></th>\n",
              "      <th></th>\n",
              "      <th></th>\n",
              "      <th></th>\n",
              "    </tr>\n",
              "  </thead>\n",
              "  <tbody>\n",
              "    <tr>\n",
              "      <th>01752</th>\n",
              "      <td>1674</td>\n",
              "      <td>1669</td>\n",
              "      <td>1678</td>\n",
              "      <td>1667</td>\n",
              "      <td>1682</td>\n",
              "      <td>1664</td>\n",
              "      <td>1686</td>\n",
              "      <td>1661</td>\n",
              "      <td>1689</td>\n",
              "      <td>1657</td>\n",
              "    </tr>\n",
              "    <tr>\n",
              "      <th>01801</th>\n",
              "      <td>2023</td>\n",
              "      <td>2003</td>\n",
              "      <td>2015</td>\n",
              "      <td>1984</td>\n",
              "      <td>2006</td>\n",
              "      <td>1966</td>\n",
              "      <td>1998</td>\n",
              "      <td>1949</td>\n",
              "      <td>1986</td>\n",
              "      <td>1929</td>\n",
              "    </tr>\n",
              "    <tr>\n",
              "      <th>01851</th>\n",
              "      <td>1553</td>\n",
              "      <td>1381</td>\n",
              "      <td>1592</td>\n",
              "      <td>1421</td>\n",
              "      <td>1590</td>\n",
              "      <td>1419</td>\n",
              "      <td>1601</td>\n",
              "      <td>1430</td>\n",
              "      <td>1573</td>\n",
              "      <td>1402</td>\n",
              "    </tr>\n",
              "    <tr>\n",
              "      <th>01852</th>\n",
              "      <td>2006</td>\n",
              "      <td>1377</td>\n",
              "      <td>2003</td>\n",
              "      <td>1372</td>\n",
              "      <td>2006</td>\n",
              "      <td>1371</td>\n",
              "      <td>2014</td>\n",
              "      <td>1374</td>\n",
              "      <td>2031</td>\n",
              "      <td>1386</td>\n",
              "    </tr>\n",
              "    <tr>\n",
              "      <th>01960</th>\n",
              "      <td>2041</td>\n",
              "      <td>1791</td>\n",
              "      <td>2068</td>\n",
              "      <td>1796</td>\n",
              "      <td>2096</td>\n",
              "      <td>1817</td>\n",
              "      <td>2074</td>\n",
              "      <td>1790</td>\n",
              "      <td>2111</td>\n",
              "      <td>1822</td>\n",
              "    </tr>\n",
              "  </tbody>\n",
              "</table>\n",
              "</div>"
            ],
            "text/plain": [
              "      in_1_month       in_2_months        ... in_4_months       in_5_months      \n",
              "level       high   low        high   low  ...        high   low        high   low\n",
              "zip                                       ...                                    \n",
              "01752       1674  1669        1678  1667  ...        1686  1661        1689  1657\n",
              "01801       2023  2003        2015  1984  ...        1998  1949        1986  1929\n",
              "01851       1553  1381        1592  1421  ...        1601  1430        1573  1402\n",
              "01852       2006  1377        2003  1372  ...        2014  1374        2031  1386\n",
              "01960       2041  1791        2068  1796  ...        2074  1790        2111  1822\n",
              "\n",
              "[5 rows x 10 columns]"
            ]
          },
          "metadata": {
            "tags": []
          },
          "execution_count": 67
        }
      ]
    },
    {
      "cell_type": "code",
      "metadata": {
        "id": "Mg2sZbHvsMUr"
      },
      "source": [
        "# Grabbing items in the dataframe\r\n",
        "\r\n",
        "index = [int(i) for i in  list(city_d.index)]\r\n",
        "\r\n",
        "in_1_month_high = list(city_d[( 'in_1_month', 'high')])\r\n",
        "in_1_month_low = list(city_d[( 'in_1_month', 'low')])\r\n",
        "in_2_month_high = list(city_d[( 'in_1_month', 'high')])\r\n",
        "in_2_month_low = list(city_d[( 'in_1_month', 'low')])\r\n",
        "in_3_month_high = list(city_d[( 'in_1_month', 'high')])\r\n",
        "in_3_month_low = list(city_d[( 'in_1_month', 'low')])\r\n",
        "in_4_month_high = list(city_d[( 'in_1_month', 'high')])\r\n",
        "in_4_month_low = list(city_d[( 'in_1_month', 'low')])\r\n",
        "in_5_month_high = list(city_d[( 'in_1_month', 'high')])\r\n",
        "in_5_month_low = list(city_d[( 'in_1_month', 'low')])"
      ],
      "execution_count": 69,
      "outputs": []
    },
    {
      "cell_type": "code",
      "metadata": {
        "id": "mzWJVLuSsUpZ"
      },
      "source": [
        "# Creating a list of dictionaries zip:forecast\r\n",
        "zip_dict =[]\r\n",
        "for i in range(len(city_d.index)):\r\n",
        "  a = {str(index[i]): [{'in_1_month':{'low':in_1_month_low[i], 'high':in_1_month_high[i]}},\r\n",
        "                       {'in_2_months':{'low':in_2_month_low[i], 'high':in_2_month_high[i]}},\r\n",
        "                       {'in_3_months':{'low':in_3_month_low[i], 'high':in_3_month_high[i]}},\r\n",
        "                       {'in_4_months':{'low':in_4_month_low[i], 'high':in_4_month_high[i]}},\r\n",
        "                       {'in_5_months':{'low':in_5_month_low[i], 'high':in_5_month_high[i]}}\r\n",
        "                       \r\n",
        "                       ]\r\n",
        "       }\r\n",
        "  zip_dict.append(a)"
      ],
      "execution_count": 70,
      "outputs": []
    },
    {
      "cell_type": "code",
      "metadata": {
        "id": "LOKkA7UcvgoI"
      },
      "source": [
        "# Get forecast given zip code\r\n",
        "\r\n",
        "zips = [list(zip_dict[i].keys())[0] for i in range(len(zip_dict))]\r\n",
        "\r\n",
        "def get_forecast(zip):\r\n",
        "  if zip in zips:\r\n",
        "    for i in range(len(zip_dict)):\r\n",
        "      zip = list(zip_dict[i].keys())[0]\r\n",
        "      f = zip_dict[i][zip]\r\n",
        "      return f\r\n",
        "  else:\r\n",
        "    return \"No forecast for this location\"\r\n",
        "\r\n"
      ],
      "execution_count": 100,
      "outputs": []
    },
    {
      "cell_type": "code",
      "metadata": {
        "colab": {
          "base_uri": "https://localhost:8080/",
          "height": 35
        },
        "id": "yDbtTegMwgzG",
        "outputId": "e751e3e1-3567-40c0-dbda-cc7a6345e612"
      },
      "source": [
        "get_forecast('175332')"
      ],
      "execution_count": 102,
      "outputs": [
        {
          "output_type": "execute_result",
          "data": {
            "application/vnd.google.colaboratory.intrinsic+json": {
              "type": "string"
            },
            "text/plain": [
              "'No forecast for this location'"
            ]
          },
          "metadata": {
            "tags": []
          },
          "execution_count": 102
        }
      ]
    },
    {
      "cell_type": "code",
      "metadata": {
        "colab": {
          "base_uri": "https://localhost:8080/"
        },
        "id": "bV6gO6e6xmzy",
        "outputId": "844f0e6e-a675-4c5a-e7e7-d661eb24e0d1"
      },
      "source": [
        "get_forecast('1752')"
      ],
      "execution_count": 103,
      "outputs": [
        {
          "output_type": "execute_result",
          "data": {
            "text/plain": [
              "[{'in_1_month': {'high': 1674, 'low': 1669}},\n",
              " {'in_2_months': {'high': 1674, 'low': 1669}},\n",
              " {'in_3_months': {'high': 1674, 'low': 1669}},\n",
              " {'in_4_months': {'high': 1674, 'low': 1669}},\n",
              " {'in_5_months': {'high': 1674, 'low': 1669}}]"
            ]
          },
          "metadata": {
            "tags": []
          },
          "execution_count": 103
        }
      ]
    },
    {
      "cell_type": "code",
      "metadata": {
        "id": "ysfOSg-A5H2_"
      },
      "source": [
        "import json\r\n",
        "\r\n",
        "with open('zip_dict.json', 'w') as json_file:\r\n",
        "    json.dump(zip_dict, json_file)"
      ],
      "execution_count": 138,
      "outputs": []
    },
    {
      "cell_type": "markdown",
      "metadata": {
        "id": "afy-3wK-7HCA"
      },
      "source": [
        "# Forecasting Based on city_id"
      ]
    },
    {
      "cell_type": "code",
      "metadata": {
        "colab": {
          "base_uri": "https://localhost:8080/",
          "height": 204
        },
        "id": "2kPRyVbI7YDs",
        "outputId": "232cfc33-a5ee-4f0c-9130-f25a8685f518"
      },
      "source": [
        "# # pivot table\r\n",
        "city_d= pd.pivot_table(zip_df, index = ['city_id'], columns = 'level', values = ['in_1_month', \r\n",
        "                                                                              'in_2_months', \r\n",
        "                                                                              'in_3_months', \r\n",
        "                                                                              'in_4_months', \r\n",
        "                                                                              'in_5_months'])\r\n",
        "city_d.head(3)"
      ],
      "execution_count": 142,
      "outputs": [
        {
          "output_type": "execute_result",
          "data": {
            "text/html": [
              "<div>\n",
              "<style scoped>\n",
              "    .dataframe tbody tr th:only-of-type {\n",
              "        vertical-align: middle;\n",
              "    }\n",
              "\n",
              "    .dataframe tbody tr th {\n",
              "        vertical-align: top;\n",
              "    }\n",
              "\n",
              "    .dataframe thead tr th {\n",
              "        text-align: left;\n",
              "    }\n",
              "\n",
              "    .dataframe thead tr:last-of-type th {\n",
              "        text-align: right;\n",
              "    }\n",
              "</style>\n",
              "<table border=\"1\" class=\"dataframe\">\n",
              "  <thead>\n",
              "    <tr>\n",
              "      <th></th>\n",
              "      <th colspan=\"2\" halign=\"left\">in_1_month</th>\n",
              "      <th colspan=\"2\" halign=\"left\">in_2_months</th>\n",
              "      <th colspan=\"2\" halign=\"left\">in_3_months</th>\n",
              "      <th colspan=\"2\" halign=\"left\">in_4_months</th>\n",
              "      <th colspan=\"2\" halign=\"left\">in_5_months</th>\n",
              "    </tr>\n",
              "    <tr>\n",
              "      <th>level</th>\n",
              "      <th>high</th>\n",
              "      <th>low</th>\n",
              "      <th>high</th>\n",
              "      <th>low</th>\n",
              "      <th>high</th>\n",
              "      <th>low</th>\n",
              "      <th>high</th>\n",
              "      <th>low</th>\n",
              "      <th>high</th>\n",
              "      <th>low</th>\n",
              "    </tr>\n",
              "    <tr>\n",
              "      <th>city_id</th>\n",
              "      <th></th>\n",
              "      <th></th>\n",
              "      <th></th>\n",
              "      <th></th>\n",
              "      <th></th>\n",
              "      <th></th>\n",
              "      <th></th>\n",
              "      <th></th>\n",
              "      <th></th>\n",
              "      <th></th>\n",
              "    </tr>\n",
              "  </thead>\n",
              "  <tbody>\n",
              "    <tr>\n",
              "      <th>100820</th>\n",
              "      <td>1443.00</td>\n",
              "      <td>1256.0</td>\n",
              "      <td>1464.0</td>\n",
              "      <td>1242.0</td>\n",
              "      <td>1472.00</td>\n",
              "      <td>1238.00</td>\n",
              "      <td>1475.00</td>\n",
              "      <td>1236.00</td>\n",
              "      <td>1478.00</td>\n",
              "      <td>1236.00</td>\n",
              "    </tr>\n",
              "    <tr>\n",
              "      <th>107000</th>\n",
              "      <td>1383.75</td>\n",
              "      <td>1224.0</td>\n",
              "      <td>1391.5</td>\n",
              "      <td>1229.5</td>\n",
              "      <td>1396.75</td>\n",
              "      <td>1229.25</td>\n",
              "      <td>1402.75</td>\n",
              "      <td>1231.25</td>\n",
              "      <td>1403.25</td>\n",
              "      <td>1227.75</td>\n",
              "    </tr>\n",
              "    <tr>\n",
              "      <th>111416</th>\n",
              "      <td>1424.00</td>\n",
              "      <td>1256.0</td>\n",
              "      <td>1422.0</td>\n",
              "      <td>1252.0</td>\n",
              "      <td>1424.00</td>\n",
              "      <td>1253.00</td>\n",
              "      <td>1433.00</td>\n",
              "      <td>1260.00</td>\n",
              "      <td>1434.00</td>\n",
              "      <td>1260.00</td>\n",
              "    </tr>\n",
              "  </tbody>\n",
              "</table>\n",
              "</div>"
            ],
            "text/plain": [
              "        in_1_month         in_2_months  ... in_4_months in_5_months         \n",
              "level         high     low        high  ...         low        high      low\n",
              "city_id                                 ...                                 \n",
              "100820     1443.00  1256.0      1464.0  ...     1236.00     1478.00  1236.00\n",
              "107000     1383.75  1224.0      1391.5  ...     1231.25     1403.25  1227.75\n",
              "111416     1424.00  1256.0      1422.0  ...     1260.00     1434.00  1260.00\n",
              "\n",
              "[3 rows x 10 columns]"
            ]
          },
          "metadata": {
            "tags": []
          },
          "execution_count": 142
        }
      ]
    },
    {
      "cell_type": "code",
      "metadata": {
        "id": "LOajydQo5UuL"
      },
      "source": [
        "index = [int(i) for i in  list(city_d.index)]\r\n",
        "\r\n",
        "in_1_month_high = list(city_d[( 'in_1_month', 'high')])\r\n",
        "in_1_month_low = list(city_d[( 'in_1_month', 'low')])\r\n",
        "in_2_month_high = list(city_d[( 'in_1_month', 'high')])\r\n",
        "in_2_month_low = list(city_d[( 'in_1_month', 'low')])\r\n",
        "in_3_month_high = list(city_d[( 'in_1_month', 'high')])\r\n",
        "in_3_month_low = list(city_d[( 'in_1_month', 'low')])\r\n",
        "in_4_month_high = list(city_d[( 'in_1_month', 'high')])\r\n",
        "in_4_month_low = list(city_d[( 'in_1_month', 'low')])\r\n",
        "in_5_month_high = list(city_d[( 'in_1_month', 'high')])\r\n",
        "in_5_month_low = list(city_d[( 'in_1_month', 'low')])"
      ],
      "execution_count": 143,
      "outputs": []
    },
    {
      "cell_type": "code",
      "metadata": {
        "id": "Vh7FqRr37uL2"
      },
      "source": [
        "city_id_dict =[]\r\n",
        "for i in range(len(city_d.index)):\r\n",
        "  a = {str(index[i]): [{'in_1_month':{'low':in_1_month_low[i], 'high':in_1_month_high[i]}},\r\n",
        "                       {'in_2_months':{'low':in_2_month_low[i], 'high':in_2_month_high[i]}},\r\n",
        "                       {'in_3_months':{'low':in_3_month_low[i], 'high':in_3_month_high[i]}},\r\n",
        "                       {'in_4_months':{'low':in_4_month_low[i], 'high':in_4_month_high[i]}},\r\n",
        "                       {'in_5_months':{'low':in_5_month_low[i], 'high':in_5_month_high[i]}}\r\n",
        "                       \r\n",
        "                       ]\r\n",
        "       }\r\n",
        "  city_id_dict.append(a)\r\n"
      ],
      "execution_count": 147,
      "outputs": []
    },
    {
      "cell_type": "code",
      "metadata": {
        "colab": {
          "base_uri": "https://localhost:8080/"
        },
        "id": "-AS-DB_p7x4T",
        "outputId": "b13a73db-3543-4193-d77f-d34a79bb6773"
      },
      "source": [
        "city_id_dict[0]"
      ],
      "execution_count": 148,
      "outputs": [
        {
          "output_type": "execute_result",
          "data": {
            "text/plain": [
              "{'100820': [{'in_1_month': {'high': 1443.0, 'low': 1256.0}},\n",
              "  {'in_2_months': {'high': 1443.0, 'low': 1256.0}},\n",
              "  {'in_3_months': {'high': 1443.0, 'low': 1256.0}},\n",
              "  {'in_4_months': {'high': 1443.0, 'low': 1256.0}},\n",
              "  {'in_5_months': {'high': 1443.0, 'low': 1256.0}}]}"
            ]
          },
          "metadata": {
            "tags": []
          },
          "execution_count": 148
        }
      ]
    },
    {
      "cell_type": "code",
      "metadata": {
        "id": "BmjMy0t58DYX"
      },
      "source": [
        "# save json object\r\n",
        "\r\n",
        "with open('city_id_dict.json', 'w') as json_file:\r\n",
        "    json.dump(city_id_dict, json_file)"
      ],
      "execution_count": 149,
      "outputs": []
    },
    {
      "cell_type": "code",
      "metadata": {
        "id": "Xq574R178ZUn"
      },
      "source": [
        "# Get forecast given city_id\r\n",
        "\r\n",
        "ids = [list(city_id_dict[i].keys())[0] for i in range(len(city_id_dict))]\r\n",
        "\r\n",
        "def get_forecast_id(city_id):\r\n",
        "  if city_id in ids:\r\n",
        "    for i in range(len(city_id_dict)):\r\n",
        "      c_id = list(city_id_dict[i].keys())[0]\r\n",
        "      f = city_id_dict[i][city_id]\r\n",
        "      return f\r\n",
        "  else:\r\n",
        "    return \"No forecast for this location\""
      ],
      "execution_count": 153,
      "outputs": []
    },
    {
      "cell_type": "code",
      "metadata": {
        "colab": {
          "base_uri": "https://localhost:8080/"
        },
        "id": "KfmJFMhx92pY",
        "outputId": "3e649172-e6e1-4908-a8f4-9da97401275e"
      },
      "source": [
        "get_forecast_id('100820')"
      ],
      "execution_count": 155,
      "outputs": [
        {
          "output_type": "execute_result",
          "data": {
            "text/plain": [
              "[{'in_1_month': {'high': 1443.0, 'low': 1256.0}},\n",
              " {'in_2_months': {'high': 1443.0, 'low': 1256.0}},\n",
              " {'in_3_months': {'high': 1443.0, 'low': 1256.0}},\n",
              " {'in_4_months': {'high': 1443.0, 'low': 1256.0}},\n",
              " {'in_5_months': {'high': 1443.0, 'low': 1256.0}}]"
            ]
          },
          "metadata": {
            "tags": []
          },
          "execution_count": 155
        }
      ]
    }
  ]
}